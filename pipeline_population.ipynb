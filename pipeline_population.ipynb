{
 "cells": [
  {
   "cell_type": "code",
   "execution_count": 1,
   "id": "bf0b166f-793d-4bfc-b63d-db99356d7909",
   "metadata": {},
   "outputs": [
    {
     "name": "stdout",
     "output_type": "stream",
     "text": [
      "following variables have been created:\n",
      "db_name\n",
      "jdbcURI\n",
      "driver\n"
     ]
    }
   ],
   "source": [
    "%run spark_utilities.ipynb"
   ]
  },
  {
   "cell_type": "code",
   "execution_count": 2,
   "id": "5e749071-e029-4295-a6e9-db948e7e4d33",
   "metadata": {},
   "outputs": [
    {
     "name": "stdout",
     "output_type": "stream",
     "text": [
      "custom methods:\n",
      "normalize_column_name\n",
      "download_files\n"
     ]
    }
   ],
   "source": [
    "%run custom_methods.ipynb"
   ]
  },
  {
   "cell_type": "markdown",
   "id": "527e8902-bead-4ac7-9f69-d15dc9557bb4",
   "metadata": {
    "jp-MarkdownHeadingCollapsed": true
   },
   "source": [
    "# *Import the datasets*"
   ]
  },
  {
   "cell_type": "code",
   "execution_count": 3,
   "id": "3d5008f7-f0f7-4de1-baef-e4539772a04b",
   "metadata": {},
   "outputs": [],
   "source": [
    "file_population = \"datasets/population_by_age.tsv\"\n",
    "country_lookup = \"datasets/country_lookup.csv\"\n",
    "\n",
    "if os.path.isfile(file_population):\n",
    "    df_population_sc = spark.read.csv(file_population, header=True, inferSchema=True, sep=r'\\t')\n",
    "else:\n",
    "    print(\"File {0} not found\".format(file_population))\n",
    "\n",
    "\n",
    "if os.path.isfile(country_lookup):\n",
    "    df_country_lookup_sc = spark.read.csv(country_lookup, header=True, inferSchema=True)\n",
    "else:\n",
    "    print(\"File {0} not found\".format(country_lookup))"
   ]
  },
  {
   "cell_type": "code",
   "execution_count": 4,
   "id": "04c78fdd-64dd-40e0-8665-bcd1433d5f69",
   "metadata": {},
   "outputs": [
    {
     "name": "stdout",
     "output_type": "stream",
     "text": [
      "+------------------+------+-----+------+------+------+-----+------+------+-----+------+------+------+\n",
      "| indic_de,geo\\time| 2008 |2009 | 2010 | 2011 | 2012 |2013 | 2014 | 2015 |2016 | 2017 | 2018 | 2019 |\n",
      "+------------------+------+-----+------+------+------+-----+------+------+-----+------+------+------+\n",
      "|       PC_Y0_14,AD| 14.6 |14.5 | 14.5 | 15.5 | 15.5 |15.5 |    : |    : |   : |    : |    : | 13.9 |\n",
      "|       PC_Y0_14,AL| 24.1 |23.3 | 22.5 | 21.6 | 20.7 |20.1 | 19.6 | 19.0 |18.5 | 18.2 | 17.7 | 17.2 |\n",
      "|       PC_Y0_14,AM| 19.0 |18.6 | 18.3 |    : |    : |   : |    : | 19.4 |19.6 | 20.0 | 20.2 | 20.2 |\n",
      "|       PC_Y0_14,AT| 15.4 |15.1 | 14.9 | 14.7 | 14.6 |14.4 | 14.3 | 14.3 |14.3 | 14.4 | 14.4 | 14.4 |\n",
      "|       PC_Y0_14,AZ| 23.2 |22.6 | 22.6 | 22.3 | 22.2 |22.3 | 22.4 | 22.4 |22.5 | 22.6 | 22.6 | 22.4 |\n",
      "|       PC_Y0_14,BE| 16.9 |16.9 | 16.9 |17.0 b| 17.0 |17.0 | 17.0 | 17.0 |17.0 | 17.0 | 17.0 | 16.9 |\n",
      "|       PC_Y0_14,BG| 13.1 |13.1 | 13.2 | 13.2 | 13.4 |13.6 | 13.7 | 13.9 |14.0 | 14.1 | 14.2 | 14.4 |\n",
      "|       PC_Y0_14,BY| 14.7 |14.6 |    : | 14.9 | 15.1 |15.4 | 15.7 | 16.0 |16.3 | 16.6 | 16.8 | 16.9 |\n",
      "|       PC_Y0_14,CH| 15.5 |15.3 | 15.2 |15.1 b| 15.0 |14.9 | 14.9 | 14.9 |14.9 | 14.9 | 15.0 | 15.0 |\n",
      "|       PC_Y0_14,CY| 18.2 |17.7 | 17.2 | 16.8 | 16.5 |16.4 | 16.3 | 16.4 |16.4 | 16.3 | 16.2 | 16.1 |\n",
      "|       PC_Y0_14,CZ| 14.2 |14.2 | 14.3 | 14.5 | 14.7 |14.8 | 15.0 | 15.2 |15.4 | 15.6 | 15.7 | 15.9 |\n",
      "|       PC_Y0_14,DE| 13.7 |13.6 | 13.5 |13.6 b| 13.4 |13.3 |13.2 b| 13.2 |13.2 | 13.4 | 13.5 | 13.6 |\n",
      "|       PC_Y0_14,DK| 18.4 |18.3 | 18.1 | 17.9 | 17.7 |17.4 | 17.2 | 17.0 |16.8 | 16.7 | 16.6 | 16.5 |\n",
      "|     PC_Y0_14,EA18| 15.4 |15.4 | 15.4 |15.4 b|15.4 b|15.3 |15.3 b|15.2 b|15.1 |15.1 b|15.0 p|15.0 p|\n",
      "|     PC_Y0_14,EA19| 15.5 |15.5 | 15.4 |15.5 b|15.4 b|15.4 |15.3 b|15.3 b|15.2 |15.2 b|15.1 p|15.0 p|\n",
      "|       PC_Y0_14,EE| 14.8 |14.9 | 15.1 | 15.3 | 15.5 |15.7 | 15.8 |15.9 b|16.1 | 16.2 | 16.3 | 16.4 |\n",
      "|       PC_Y0_14,EL| 14.6 |14.6 | 14.6 | 14.6 | 14.7 |14.7 | 14.6 | 14.5 |14.4 | 14.4 | 14.4 | 14.3 |\n",
      "|       PC_Y0_14,ES| 14.6 |14.8 | 14.9 | 15.0 | 15.1 |15.2 | 15.2 | 15.2 |15.1 | 15.1 | 15.0 | 14.8 |\n",
      "|PC_Y0_14,EU27_2007|15.8 b|15.7 |15.7 b|15.7 b|15.7 b|15.7 |15.6 b|15.6 b|15.6 |15.6 b|15.6 p|15.5 p|\n",
      "|PC_Y0_14,EU27_2020|15.5 b|15.4 |15.4 b|15.4 b|15.4 b|15.4 |15.3 b|15.3 b|15.3 |15.2 b|15.2 p|15.2 p|\n",
      "+------------------+------+-----+------+------+------+-----+------+------+-----+------+------+------+\n",
      "only showing top 20 rows\n",
      "\n"
     ]
    }
   ],
   "source": [
    "df_population_sc.show()"
   ]
  },
  {
   "cell_type": "code",
   "execution_count": 16,
   "id": "78cf8a88-3819-4627-9e54-361b5540a1a9",
   "metadata": {},
   "outputs": [
    {
     "name": "stdout",
     "output_type": "stream",
     "text": [
      "+--------------------+--------------------+--------------------+---------+----------+\n",
      "|             country|country_code_2_digit|country_code_3_digit|continent|population|\n",
      "+--------------------+--------------------+--------------------+---------+----------+\n",
      "|               Aruba|                  AW|                 ABW|  America|    106766|\n",
      "|         Afghanistan|                  AF|                 AFG|     Asia|  38928341|\n",
      "|              Angola|                  AO|                 AGO|   Africa|  32866268|\n",
      "|            Anguilla|                  AI|                 AIA|  America|     15002|\n",
      "|             Albania|                  AL|                 ALB|   Europe|   2862427|\n",
      "|             Andorra|                  AD|                 AND|   Europe|     76177|\n",
      "|United Arab Emirates|                  AE|                 ARE|     Asia|   9890400|\n",
      "|           Argentina|                  AR|                 ARG|  America|  45195777|\n",
      "|             Armenia|                  AM|                 ARM|   Europe|   2963234|\n",
      "| Antigua and Barbuda|                  AG|                 ATG|  America|     97928|\n",
      "|           Australia|                  AU|                 AUS|  Oceania|  25499881|\n",
      "|             Austria|                  AT|                 AUT|   Europe|   8858775|\n",
      "|          Azerbaijan|                  AZ|                 AZE|   Europe|  10139175|\n",
      "|             Burundi|                  BI|                 BDI|   Africa|  11890781|\n",
      "|             Belgium|                  BE|                 BEL|   Europe|  11455519|\n",
      "|               Benin|                  BJ|                 BEN|   Africa|  12123198|\n",
      "|Bonaire, Saint Eu...|                  BQ|                 BES|  America|     26221|\n",
      "|        Burkina Faso|                  BF|                 BFA|   Africa|  20903278|\n",
      "|          Bangladesh|                  BD|                 BGD|     Asia| 164689383|\n",
      "|            Bulgaria|                  BG|                 BGR|   Europe|   7000039|\n",
      "+--------------------+--------------------+--------------------+---------+----------+\n",
      "only showing top 20 rows\n",
      "\n"
     ]
    }
   ],
   "source": [
    "df_country_lookup_sc.show()"
   ]
  },
  {
   "cell_type": "markdown",
   "id": "2e341e3b-6448-428e-8df1-ab1d34c1e845",
   "metadata": {
    "jp-MarkdownHeadingCollapsed": true
   },
   "source": [
    "# *Normalize cols for df_population_sc*"
   ]
  },
  {
   "cell_type": "code",
   "execution_count": 5,
   "id": "d91ff575-5a54-4199-ba9f-de6a2a8da083",
   "metadata": {},
   "outputs": [
    {
     "data": {
      "text/plain": [
       "['indic_de,geo\\\\time',\n",
       " '2008 ',\n",
       " '2009 ',\n",
       " '2010 ',\n",
       " '2011 ',\n",
       " '2012 ',\n",
       " '2013 ',\n",
       " '2014 ',\n",
       " '2015 ',\n",
       " '2016 ',\n",
       " '2017 ',\n",
       " '2018 ',\n",
       " '2019 ']"
      ]
     },
     "execution_count": 5,
     "metadata": {},
     "output_type": "execute_result"
    }
   ],
   "source": [
    "# the columns are not well formatted! use the normalize pattern in custom_methods!\n",
    "df_population_sc.columns"
   ]
  },
  {
   "cell_type": "code",
   "execution_count": 6,
   "id": "4787b4fc-b288-478f-b7b4-db5dd58f1c71",
   "metadata": {},
   "outputs": [
    {
     "data": {
      "text/plain": [
       "[('indic_de,geo\\\\time', 'string'),\n",
       " ('2008 ', 'string'),\n",
       " ('2009 ', 'string'),\n",
       " ('2010 ', 'string'),\n",
       " ('2011 ', 'string'),\n",
       " ('2012 ', 'string'),\n",
       " ('2013 ', 'string'),\n",
       " ('2014 ', 'string'),\n",
       " ('2015 ', 'string'),\n",
       " ('2016 ', 'string'),\n",
       " ('2017 ', 'string'),\n",
       " ('2018 ', 'string'),\n",
       " ('2019 ', 'string')]"
      ]
     },
     "execution_count": 6,
     "metadata": {},
     "output_type": "execute_result"
    }
   ],
   "source": [
    "# also the types for the years are strings and should be decimal(4,2)\n",
    "df_population_sc.dtypes"
   ]
  },
  {
   "cell_type": "code",
   "execution_count": 7,
   "id": "0d46c95b-d945-4ec6-ac77-12557bb2743e",
   "metadata": {},
   "outputs": [
    {
     "name": "stdout",
     "output_type": "stream",
     "text": [
      "+------------------+------+-----+------+------+------+-----+------+------+-----+------+------+------+\n",
      "| indic_de,geo_time|  2008| 2009|  2010|  2011|  2012| 2013|  2014|  2015| 2016|  2017|  2018|  2019|\n",
      "+------------------+------+-----+------+------+------+-----+------+------+-----+------+------+------+\n",
      "|       PC_Y0_14,AD| 14.6 |14.5 | 14.5 | 15.5 | 15.5 |15.5 |    : |    : |   : |    : |    : | 13.9 |\n",
      "|       PC_Y0_14,AL| 24.1 |23.3 | 22.5 | 21.6 | 20.7 |20.1 | 19.6 | 19.0 |18.5 | 18.2 | 17.7 | 17.2 |\n",
      "|       PC_Y0_14,AM| 19.0 |18.6 | 18.3 |    : |    : |   : |    : | 19.4 |19.6 | 20.0 | 20.2 | 20.2 |\n",
      "|       PC_Y0_14,AT| 15.4 |15.1 | 14.9 | 14.7 | 14.6 |14.4 | 14.3 | 14.3 |14.3 | 14.4 | 14.4 | 14.4 |\n",
      "|       PC_Y0_14,AZ| 23.2 |22.6 | 22.6 | 22.3 | 22.2 |22.3 | 22.4 | 22.4 |22.5 | 22.6 | 22.6 | 22.4 |\n",
      "|       PC_Y0_14,BE| 16.9 |16.9 | 16.9 |17.0 b| 17.0 |17.0 | 17.0 | 17.0 |17.0 | 17.0 | 17.0 | 16.9 |\n",
      "|       PC_Y0_14,BG| 13.1 |13.1 | 13.2 | 13.2 | 13.4 |13.6 | 13.7 | 13.9 |14.0 | 14.1 | 14.2 | 14.4 |\n",
      "|       PC_Y0_14,BY| 14.7 |14.6 |    : | 14.9 | 15.1 |15.4 | 15.7 | 16.0 |16.3 | 16.6 | 16.8 | 16.9 |\n",
      "|       PC_Y0_14,CH| 15.5 |15.3 | 15.2 |15.1 b| 15.0 |14.9 | 14.9 | 14.9 |14.9 | 14.9 | 15.0 | 15.0 |\n",
      "|       PC_Y0_14,CY| 18.2 |17.7 | 17.2 | 16.8 | 16.5 |16.4 | 16.3 | 16.4 |16.4 | 16.3 | 16.2 | 16.1 |\n",
      "|       PC_Y0_14,CZ| 14.2 |14.2 | 14.3 | 14.5 | 14.7 |14.8 | 15.0 | 15.2 |15.4 | 15.6 | 15.7 | 15.9 |\n",
      "|       PC_Y0_14,DE| 13.7 |13.6 | 13.5 |13.6 b| 13.4 |13.3 |13.2 b| 13.2 |13.2 | 13.4 | 13.5 | 13.6 |\n",
      "|       PC_Y0_14,DK| 18.4 |18.3 | 18.1 | 17.9 | 17.7 |17.4 | 17.2 | 17.0 |16.8 | 16.7 | 16.6 | 16.5 |\n",
      "|     PC_Y0_14,EA18| 15.4 |15.4 | 15.4 |15.4 b|15.4 b|15.3 |15.3 b|15.2 b|15.1 |15.1 b|15.0 p|15.0 p|\n",
      "|     PC_Y0_14,EA19| 15.5 |15.5 | 15.4 |15.5 b|15.4 b|15.4 |15.3 b|15.3 b|15.2 |15.2 b|15.1 p|15.0 p|\n",
      "|       PC_Y0_14,EE| 14.8 |14.9 | 15.1 | 15.3 | 15.5 |15.7 | 15.8 |15.9 b|16.1 | 16.2 | 16.3 | 16.4 |\n",
      "|       PC_Y0_14,EL| 14.6 |14.6 | 14.6 | 14.6 | 14.7 |14.7 | 14.6 | 14.5 |14.4 | 14.4 | 14.4 | 14.3 |\n",
      "|       PC_Y0_14,ES| 14.6 |14.8 | 14.9 | 15.0 | 15.1 |15.2 | 15.2 | 15.2 |15.1 | 15.1 | 15.0 | 14.8 |\n",
      "|PC_Y0_14,EU27_2007|15.8 b|15.7 |15.7 b|15.7 b|15.7 b|15.7 |15.6 b|15.6 b|15.6 |15.6 b|15.6 p|15.5 p|\n",
      "|PC_Y0_14,EU27_2020|15.5 b|15.4 |15.4 b|15.4 b|15.4 b|15.4 |15.3 b|15.3 b|15.3 |15.2 b|15.2 p|15.2 p|\n",
      "+------------------+------+-----+------+------+------+-----+------+------+-----+------+------+------+\n",
      "only showing top 20 rows\n",
      "\n"
     ]
    }
   ],
   "source": [
    "df_population_norm = normalize_column_name(df_population_sc)\n",
    "df_population_norm.show()"
   ]
  },
  {
   "cell_type": "code",
   "execution_count": 8,
   "id": "36d9424f-1cad-4735-8e19-c5408534695e",
   "metadata": {},
   "outputs": [
    {
     "name": "stdout",
     "output_type": "stream",
     "text": [
      "+--------------------+--------------------+--------------------+---------+----------+\n",
      "|             country|country_code_2_digit|country_code_3_digit|continent|population|\n",
      "+--------------------+--------------------+--------------------+---------+----------+\n",
      "|               Aruba|                  AW|                 ABW|  America|    106766|\n",
      "|         Afghanistan|                  AF|                 AFG|     Asia|  38928341|\n",
      "|              Angola|                  AO|                 AGO|   Africa|  32866268|\n",
      "|            Anguilla|                  AI|                 AIA|  America|     15002|\n",
      "|             Albania|                  AL|                 ALB|   Europe|   2862427|\n",
      "|             Andorra|                  AD|                 AND|   Europe|     76177|\n",
      "|United Arab Emirates|                  AE|                 ARE|     Asia|   9890400|\n",
      "|           Argentina|                  AR|                 ARG|  America|  45195777|\n",
      "|             Armenia|                  AM|                 ARM|   Europe|   2963234|\n",
      "| Antigua and Barbuda|                  AG|                 ATG|  America|     97928|\n",
      "|           Australia|                  AU|                 AUS|  Oceania|  25499881|\n",
      "|             Austria|                  AT|                 AUT|   Europe|   8858775|\n",
      "|          Azerbaijan|                  AZ|                 AZE|   Europe|  10139175|\n",
      "|             Burundi|                  BI|                 BDI|   Africa|  11890781|\n",
      "|             Belgium|                  BE|                 BEL|   Europe|  11455519|\n",
      "|               Benin|                  BJ|                 BEN|   Africa|  12123198|\n",
      "|Bonaire, Saint Eu...|                  BQ|                 BES|  America|     26221|\n",
      "|        Burkina Faso|                  BF|                 BFA|   Africa|  20903278|\n",
      "|          Bangladesh|                  BD|                 BGD|     Asia| 164689383|\n",
      "|            Bulgaria|                  BG|                 BGR|   Europe|   7000039|\n",
      "+--------------------+--------------------+--------------------+---------+----------+\n",
      "only showing top 20 rows\n",
      "\n"
     ]
    }
   ],
   "source": [
    "df_country_lookup_sc.show()"
   ]
  },
  {
   "cell_type": "code",
   "execution_count": 9,
   "id": "6bedae23-20f4-47dc-b492-fb976f18a1d4",
   "metadata": {},
   "outputs": [
    {
     "data": {
      "text/plain": [
       "['country',\n",
       " 'country_code_2_digit',\n",
       " 'country_code_3_digit',\n",
       " 'continent',\n",
       " 'population']"
      ]
     },
     "execution_count": 9,
     "metadata": {},
     "output_type": "execute_result"
    }
   ],
   "source": [
    "df_country_lookup_sc.columns"
   ]
  },
  {
   "cell_type": "code",
   "execution_count": 11,
   "id": "dc7d9b8b-deeb-40e5-ab8e-8a46b9481305",
   "metadata": {},
   "outputs": [
    {
     "data": {
      "text/plain": [
       "[('country', 'string'),\n",
       " ('country_code_2_digit', 'string'),\n",
       " ('country_code_3_digit', 'string'),\n",
       " ('continent', 'string'),\n",
       " ('population', 'int')]"
      ]
     },
     "execution_count": 11,
     "metadata": {},
     "output_type": "execute_result"
    }
   ],
   "source": [
    "df_country_lookup_sc.dtypes"
   ]
  },
  {
   "cell_type": "markdown",
   "id": "c9372ff6-553b-47b5-9b5b-9d15a7e83314",
   "metadata": {
    "jp-MarkdownHeadingCollapsed": true
   },
   "source": [
    "# *Split cols and derive age_group and country_code*"
   ]
  },
  {
   "cell_type": "code",
   "execution_count": 12,
   "id": "f6704716-bd44-49dd-9db9-ec3677f0ad28",
   "metadata": {},
   "outputs": [],
   "source": [
    "# 1. split the first col => age_group, country_code\n",
    "# 2. get only 2029 and cast the col since it is a string type\n",
    "# 3. filter country_code\n",
    "\n",
    "fields = [\n",
    "    'age_group'\n",
    "    ,'country_code'\n",
    "    ,'percentage_2019'\n",
    "]\n",
    "\n",
    "df_population_derived = (\n",
    "    df_population_norm\n",
    "    .withColumn(\"age_group\", split(col('indic_de,geo_time'), ',').getItem(0))\n",
    "    .withColumn(\"country_code\", split(col('indic_de,geo_time'), ',').getItem(1))\n",
    "    .withColumn(\"percentage_2019\", col('2019').cast(DecimalType(4,2))) # this was a string\n",
    "    .where(length(col(\"country_code\")) == 2) # remove country_code like EU27_2020 or EA19\n",
    "    .select(fields)\n",
    ")"
   ]
  },
  {
   "cell_type": "code",
   "execution_count": 13,
   "id": "f5cf96c7-04e0-4a83-a0e0-77e5a9838cb6",
   "metadata": {},
   "outputs": [
    {
     "data": {
      "text/plain": [
       "['age_group', 'country_code', 'percentage_2019']"
      ]
     },
     "execution_count": 13,
     "metadata": {},
     "output_type": "execute_result"
    }
   ],
   "source": [
    "df_population_derived.columns"
   ]
  },
  {
   "cell_type": "code",
   "execution_count": 14,
   "id": "0660212c-a657-46b8-a2c5-d69bdd0dfdea",
   "metadata": {},
   "outputs": [
    {
     "data": {
      "text/plain": [
       "[('age_group', 'string'),\n",
       " ('country_code', 'string'),\n",
       " ('percentage_2019', 'decimal(4,2)')]"
      ]
     },
     "execution_count": 14,
     "metadata": {},
     "output_type": "execute_result"
    }
   ],
   "source": [
    "df_population_derived.dtypes"
   ]
  },
  {
   "cell_type": "code",
   "execution_count": 88,
   "id": "09c1dcd9-dc12-4953-96f9-be941221c78d",
   "metadata": {},
   "outputs": [
    {
     "name": "stdout",
     "output_type": "stream",
     "text": [
      "+----------+------------+---------------+\n",
      "| age_group|country_code|percentage_2019|\n",
      "+----------+------------+---------------+\n",
      "|  PC_Y0_14|          AD|          13.90|\n",
      "| PC_Y15_24|          AD|          10.60|\n",
      "| PC_Y25_49|          AD|          39.40|\n",
      "| PC_Y50_64|          AD|          22.50|\n",
      "| PC_Y65_79|          AD|          10.20|\n",
      "|PC_Y80_MAX|          AD|           3.40|\n",
      "|  PC_Y0_14|          AL|          17.20|\n",
      "| PC_Y15_24|          AL|          15.50|\n",
      "| PC_Y25_49|          AL|          33.00|\n",
      "| PC_Y50_64|          AL|          20.20|\n",
      "| PC_Y65_79|          AL|          11.40|\n",
      "|PC_Y80_MAX|          AL|           2.70|\n",
      "|  PC_Y0_14|          AM|          20.20|\n",
      "| PC_Y15_24|          AM|          11.80|\n",
      "| PC_Y25_49|          AM|          36.90|\n",
      "| PC_Y50_64|          AM|          19.10|\n",
      "| PC_Y65_79|          AM|           9.00|\n",
      "|PC_Y80_MAX|          AM|           3.00|\n",
      "|  PC_Y0_14|          AT|          14.40|\n",
      "| PC_Y15_24|          AT|          10.90|\n",
      "+----------+------------+---------------+\n",
      "only showing top 20 rows\n",
      "\n"
     ]
    }
   ],
   "source": [
    "df_population_derived.orderBy(\"country_code\", \"age_group\").show()"
   ]
  },
  {
   "cell_type": "markdown",
   "id": "b1cb60fb-f06d-4d8e-b697-e81990a0fb5d",
   "metadata": {
    "jp-MarkdownHeadingCollapsed": true
   },
   "source": [
    "# *Null check*"
   ]
  },
  {
   "cell_type": "code",
   "execution_count": 85,
   "id": "2d8e42bb-02dd-4089-8714-e395dc63e601",
   "metadata": {},
   "outputs": [
    {
     "data": {
      "text/plain": [
       "0"
      ]
     },
     "execution_count": 85,
     "metadata": {},
     "output_type": "execute_result"
    }
   ],
   "source": [
    "# check for nulls\n",
    "df_population_derived.filter(df_population_derived.country_code.isNull()).count()"
   ]
  },
  {
   "cell_type": "code",
   "execution_count": 84,
   "id": "48d30d39-866c-4950-bc62-8e158debe2bf",
   "metadata": {},
   "outputs": [
    {
     "data": {
      "text/plain": [
       "36"
      ]
     },
     "execution_count": 84,
     "metadata": {},
     "output_type": "execute_result"
    }
   ],
   "source": [
    "df_population_derived.filter(df_population_derived.percentage_2019.isNull()).count()"
   ]
  },
  {
   "cell_type": "markdown",
   "id": "a06c66a5-be1b-4c1b-ba40-24754aa050c1",
   "metadata": {
    "jp-MarkdownHeadingCollapsed": true
   },
   "source": [
    "# *Pivoting of df_population_derived*"
   ]
  },
  {
   "cell_type": "code",
   "execution_count": 15,
   "id": "a736229c-d42b-4e2a-937f-182a6663e273",
   "metadata": {},
   "outputs": [],
   "source": [
    "# 3. pivoting data => country, country_code_2_digits, contry_code_3_digits, population all the age groups (age_group_0_14 to max)\n",
    "\n",
    "df_population_pivot = (\n",
    "    df_population_derived\n",
    "    .groupby(\"country_code\")\n",
    "    .pivot(\"age_group\")\n",
    "    .sum(\"percentage_2019\")\n",
    "    .orderBy(\"country_code\")\n",
    ")"
   ]
  },
  {
   "cell_type": "code",
   "execution_count": 94,
   "id": "320e52da-35dd-4f94-9275-2f227498eb17",
   "metadata": {},
   "outputs": [
    {
     "name": "stdout",
     "output_type": "stream",
     "text": [
      "+------------+--------+---------+---------+---------+---------+----------+\n",
      "|country_code|PC_Y0_14|PC_Y15_24|PC_Y25_49|PC_Y50_64|PC_Y65_79|PC_Y80_MAX|\n",
      "+------------+--------+---------+---------+---------+---------+----------+\n",
      "|          AD|   13.90|    10.60|    39.40|    22.50|    10.20|      3.40|\n",
      "|          AL|   17.20|    15.50|    33.00|    20.20|    11.40|      2.70|\n",
      "|          AM|   20.20|    11.80|    36.90|    19.10|     9.00|      3.00|\n",
      "|          AT|   14.40|    10.90|    34.00|    21.70|    13.80|      5.00|\n",
      "|          AZ|   22.40|    14.10|    39.10|    17.60|     5.30|      1.50|\n",
      "|          BE|   16.90|    11.40|    32.70|    20.10|    13.30|      5.60|\n",
      "|          BG|   14.40|     8.90|    35.00|    20.40|    16.50|      4.80|\n",
      "|          BY|   16.90|     9.90|    36.60|    21.30|    11.30|      3.90|\n",
      "|          CH|   15.00|    10.60|    35.00|    20.90|    13.30|      5.20|\n",
      "|          CY|   16.10|    12.80|    37.10|    17.90|    12.50|      3.70|\n",
      "|          CZ|   15.90|     9.10|    36.70|    18.80|    15.50|      4.10|\n",
      "|          DE|   13.60|    10.40|    31.60|    22.80|    15.10|      6.50|\n",
      "|          DK|   16.50|    12.60|    31.70|    19.60|    15.00|      4.50|\n",
      "|          EE|   16.40|     9.50|    34.90|    19.40|    14.10|      5.60|\n",
      "|          EL|   14.30|    10.20|    33.10|    20.30|    14.90|      7.10|\n",
      "|          ES|   14.80|     9.80|    35.30|    20.70|    13.30|      6.10|\n",
      "|          FI|   16.00|    11.20|    31.20|    19.90|    16.30|      5.50|\n",
      "|          FR|    NULL|     NULL|     NULL|     NULL|     NULL|      NULL|\n",
      "|          FX|    NULL|     NULL|     NULL|     NULL|     NULL|      NULL|\n",
      "|          GE|   20.30|    11.50|    33.90|    19.50|    11.40|      3.50|\n",
      "+------------+--------+---------+---------+---------+---------+----------+\n",
      "only showing top 20 rows\n",
      "\n"
     ]
    }
   ],
   "source": [
    "df_population_pivot.show()"
   ]
  },
  {
   "cell_type": "markdown",
   "id": "e653ac84-382b-4abe-b029-0fd78b364ae3",
   "metadata": {
    "jp-MarkdownHeadingCollapsed": true
   },
   "source": [
    "# *Join population and country lookup*"
   ]
  },
  {
   "cell_type": "code",
   "execution_count": 18,
   "id": "c30465a0-2802-496c-ad70-92c335f47431",
   "metadata": {},
   "outputs": [],
   "source": [
    "condition = [df_population_pivot.country_code == df_country_lookup_sc.country_code_2_digit]\n",
    "\n",
    "fields = [\n",
    "    \"country_code_2_digit\"\n",
    "    ,\"country_code_3_digit\"\n",
    "    ,\"population\"\n",
    "    ,\"age_group_0_14\"\n",
    "    ,\"age_group_15_24\"\n",
    "    ,\"age_group_25_49\"\n",
    "    ,\"age_group_50_64\"\n",
    "    ,\"age_group_65_79\"\n",
    "    ,\"age_group_80_MAX\"\n",
    "]\n",
    "\n",
    "df_population = (\n",
    "    df_population_pivot\n",
    "    .join(df_country_lookup_sc ,how='left', on=condition)\n",
    "    .withColumnRenamed(\"PC_Y0_14\", \"age_group_0_14\")\n",
    "    .withColumnRenamed(\"PC_Y15_24\", \"age_group_15_24\")\n",
    "    .withColumnRenamed(\"PC_Y25_49\", \"age_group_25_49\")\n",
    "    .withColumnRenamed(\"PC_Y50_64\", \"age_group_50_64\")\n",
    "    .withColumnRenamed(\"PC_Y65_79\", \"age_group_65_79\")\n",
    "    .withColumnRenamed(\"PC_Y80_MAX\", \"age_group_80_MAX\")\n",
    "    .select(fields)\n",
    ")"
   ]
  },
  {
   "cell_type": "code",
   "execution_count": 19,
   "id": "270f515d-01c7-4eef-8730-0b92c1905949",
   "metadata": {},
   "outputs": [
    {
     "name": "stdout",
     "output_type": "stream",
     "text": [
      "+--------------------+--------------------+----------+--------------+---------------+---------------+---------------+---------------+----------------+\n",
      "|country_code_2_digit|country_code_3_digit|population|age_group_0_14|age_group_15_24|age_group_25_49|age_group_50_64|age_group_65_79|age_group_80_MAX|\n",
      "+--------------------+--------------------+----------+--------------+---------------+---------------+---------------+---------------+----------------+\n",
      "|                  LT|                 LTU|   2794184|         15.10|          10.50|          32.70|          21.90|          14.00|            5.80|\n",
      "|                  FI|                 FIN|   5517919|         16.00|          11.20|          31.20|          19.90|          16.30|            5.50|\n",
      "|                  AZ|                 AZE|  10139175|         22.40|          14.10|          39.10|          17.60|           5.30|            1.50|\n",
      "|                  UA|                 UKR|  43733759|         15.40|           9.60|          37.60|          20.60|          12.50|            4.30|\n",
      "|                  RO|                 ROU|  19414458|         15.70|          10.60|          35.60|          19.70|          13.90|            4.70|\n",
      "|                  NL|                 NLD|  17282163|         15.90|          12.30|          31.80|          20.90|          14.60|            4.60|\n",
      "|                  PL|                 POL|  37972812|         15.40|          10.30|          37.00|          19.70|          13.30|            4.40|\n",
      "|                  AM|                 ARM|   2963234|         20.20|          11.80|          36.90|          19.10|           9.00|            3.00|\n",
      "|                  MK|                 MKD|   2077132|         16.40|          12.40|          37.50|          19.70|          11.50|            2.50|\n",
      "|                  EE|                 EST|   1324820|         16.40|           9.50|          34.90|          19.40|          14.10|            5.60|\n",
      "|                  SM|                 SMR|     34453|          NULL|           NULL|           NULL|           NULL|           NULL|            NULL|\n",
      "|                  AT|                 AUT|   8858775|         14.40|          10.90|          34.00|          21.70|          13.80|            5.00|\n",
      "|                  RU|                 RUS| 145934460|          NULL|           NULL|           NULL|           NULL|           NULL|            NULL|\n",
      "|                  AD|                 AND|     76177|         13.90|          10.60|          39.40|          22.50|          10.20|            3.40|\n",
      "|                  HR|                 HRV|   4076246|         14.40|          10.90|          32.50|          21.60|          15.20|            5.30|\n",
      "|                  LI|                 LIE|     38378|         14.70|          10.90|          33.30|          23.20|          14.10|            3.80|\n",
      "|                  CZ|                 CZE|  10649800|         15.90|           9.10|          36.70|          18.80|          15.50|            4.10|\n",
      "|                  PT|                 PRT|  10276617|         13.70|          10.60|          32.90|          20.90|          15.40|            6.40|\n",
      "|                  MT|                 MLT|    493559|         13.70|          11.00|          38.50|          18.20|          14.50|            4.20|\n",
      "|                  BY|                 BLR|   9449321|         16.90|           9.90|          36.60|          21.30|          11.30|            3.90|\n",
      "+--------------------+--------------------+----------+--------------+---------------+---------------+---------------+---------------+----------------+\n",
      "only showing top 20 rows\n",
      "\n"
     ]
    }
   ],
   "source": [
    "df_population.show()"
   ]
  },
  {
   "cell_type": "markdown",
   "id": "1450160e-b3b9-408d-aabc-df33e5a2ea9e",
   "metadata": {
    "jp-MarkdownHeadingCollapsed": true
   },
   "source": [
    "# *Sink table on db*"
   ]
  },
  {
   "cell_type": "code",
   "execution_count": 20,
   "id": "9c197dec-894f-4f49-bc34-bd9efa323aaa",
   "metadata": {},
   "outputs": [],
   "source": [
    "(\n",
    "    df_population\n",
    "    .write\n",
    "    .mode(\"overwrite\")\n",
    "    .format(\"jdbc\")\n",
    "    .options(\n",
    "        driver=driver\n",
    "        ,user=usr\n",
    "        ,password=pwd\n",
    "        ,url=jdbcURI\n",
    "        ,dbtable=\"dbo.Population\"\n",
    "    )\n",
    "    .save()\n",
    ")"
   ]
  }
 ],
 "metadata": {
  "kernelspec": {
   "display_name": "Python 3 (ipykernel)",
   "language": "python",
   "name": "python3"
  },
  "language_info": {
   "codemirror_mode": {
    "name": "ipython",
    "version": 3
   },
   "file_extension": ".py",
   "mimetype": "text/x-python",
   "name": "python",
   "nbconvert_exporter": "python",
   "pygments_lexer": "ipython3",
   "version": "3.11.5"
  }
 },
 "nbformat": 4,
 "nbformat_minor": 5
}
