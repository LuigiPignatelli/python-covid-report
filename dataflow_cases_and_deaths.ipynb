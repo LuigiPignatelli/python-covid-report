{
 "cells": [
  {
   "cell_type": "code",
   "execution_count": 2,
   "id": "b949aaab-f3d2-4338-b0d1-a2ffba99a7da",
   "metadata": {},
   "outputs": [],
   "source": [
    "%run utilities.ipynb"
   ]
  },
  {
   "cell_type": "code",
   "execution_count": 8,
   "id": "2d7b8d5b-fccc-469b-a7bd-cd07cafa67f4",
   "metadata": {},
   "outputs": [],
   "source": [
    "# IMPORT DFS\n",
    "\n",
    "df_cases_deaths = spark.read.csv(\"Datasets/cases_deaths.csv\", header=True, inferSchema=True)\n",
    "df_country_lookup = spark.read.csv(\"Datasets/country_lookup.csv\", header=True, inferSchema=True) "
   ]
  },
  {
   "cell_type": "code",
   "execution_count": 9,
   "id": "e5676ecf-3dd3-4546-9a2b-55ab2fb484ba",
   "metadata": {},
   "outputs": [
    {
     "name": "stdout",
     "output_type": "stream",
     "text": [
      "+-----------+------------+---------+----------+---------------+-----------+----------+-----------+--------------------+\n",
      "|    country|country_code|continent|population|      indicator|daily_count|      date|rate_14_day|              source|\n",
      "+-----------+------------+---------+----------+---------------+-----------+----------+-----------+--------------------+\n",
      "|Afghanistan|         AFG|     Asia|  38928341|confirmed cases|          0|2020-01-02|       NULL|Epidemic intellig...|\n",
      "|Afghanistan|         AFG|     Asia|  38928341|confirmed cases|          0|2020-01-03|       NULL|Epidemic intellig...|\n",
      "|Afghanistan|         AFG|     Asia|  38928341|confirmed cases|          0|2020-01-04|       NULL|Epidemic intellig...|\n",
      "|Afghanistan|         AFG|     Asia|  38928341|confirmed cases|          0|2020-01-05|       NULL|Epidemic intellig...|\n",
      "|Afghanistan|         AFG|     Asia|  38928341|confirmed cases|          0|2020-01-06|       NULL|Epidemic intellig...|\n",
      "|Afghanistan|         AFG|     Asia|  38928341|confirmed cases|          0|2020-01-07|       NULL|Epidemic intellig...|\n",
      "|Afghanistan|         AFG|     Asia|  38928341|confirmed cases|          0|2020-01-08|       NULL|Epidemic intellig...|\n",
      "|Afghanistan|         AFG|     Asia|  38928341|confirmed cases|          0|2020-01-09|       NULL|Epidemic intellig...|\n",
      "|Afghanistan|         AFG|     Asia|  38928341|confirmed cases|          0|2020-01-10|       NULL|Epidemic intellig...|\n",
      "|Afghanistan|         AFG|     Asia|  38928341|confirmed cases|          0|2020-01-11|       NULL|Epidemic intellig...|\n",
      "|Afghanistan|         AFG|     Asia|  38928341|confirmed cases|          0|2020-01-12|       NULL|Epidemic intellig...|\n",
      "|Afghanistan|         AFG|     Asia|  38928341|confirmed cases|          0|2020-01-13|       NULL|Epidemic intellig...|\n",
      "|Afghanistan|         AFG|     Asia|  38928341|confirmed cases|          0|2020-01-14|       NULL|Epidemic intellig...|\n",
      "|Afghanistan|         AFG|     Asia|  38928341|confirmed cases|          0|2020-01-15|        0.0|Epidemic intellig...|\n",
      "|Afghanistan|         AFG|     Asia|  38928341|confirmed cases|          0|2020-01-16|        0.0|Epidemic intellig...|\n",
      "|Afghanistan|         AFG|     Asia|  38928341|confirmed cases|          0|2020-01-17|        0.0|Epidemic intellig...|\n",
      "|Afghanistan|         AFG|     Asia|  38928341|confirmed cases|          0|2020-01-18|        0.0|Epidemic intellig...|\n",
      "|Afghanistan|         AFG|     Asia|  38928341|confirmed cases|          0|2020-01-19|        0.0|Epidemic intellig...|\n",
      "|Afghanistan|         AFG|     Asia|  38928341|confirmed cases|          0|2020-01-20|        0.0|Epidemic intellig...|\n",
      "|Afghanistan|         AFG|     Asia|  38928341|confirmed cases|          0|2020-01-21|        0.0|Epidemic intellig...|\n",
      "+-----------+------------+---------+----------+---------------+-----------+----------+-----------+--------------------+\n",
      "only showing top 20 rows\n",
      "\n"
     ]
    }
   ],
   "source": [
    "df_cases_deaths.show()"
   ]
  },
  {
   "cell_type": "code",
   "execution_count": 10,
   "id": "bebb3af5-7dc7-404c-87a6-15d56ce1417a",
   "metadata": {},
   "outputs": [
    {
     "name": "stdout",
     "output_type": "stream",
     "text": [
      "root\n",
      " |-- country: string (nullable = true)\n",
      " |-- country_code: string (nullable = true)\n",
      " |-- continent: string (nullable = true)\n",
      " |-- population: long (nullable = true)\n",
      " |-- indicator: string (nullable = true)\n",
      " |-- daily_count: integer (nullable = true)\n",
      " |-- date: date (nullable = true)\n",
      " |-- rate_14_day: double (nullable = true)\n",
      " |-- source: string (nullable = true)\n",
      "\n"
     ]
    }
   ],
   "source": [
    "df_cases_deaths.printSchema()"
   ]
  },
  {
   "cell_type": "code",
   "execution_count": 11,
   "id": "95e86d1f-f430-4948-a113-75fec5a5971d",
   "metadata": {},
   "outputs": [
    {
     "data": {
      "text/plain": [
       "[('country', 'string'),\n",
       " ('country_code', 'string'),\n",
       " ('continent', 'string'),\n",
       " ('population', 'bigint'),\n",
       " ('indicator', 'string'),\n",
       " ('daily_count', 'int'),\n",
       " ('date', 'date'),\n",
       " ('rate_14_day', 'double'),\n",
       " ('source', 'string')]"
      ]
     },
     "execution_count": 11,
     "metadata": {},
     "output_type": "execute_result"
    }
   ],
   "source": [
    "df_cases_deaths.dtypes"
   ]
  },
  {
   "cell_type": "code",
   "execution_count": 12,
   "id": "4124cd1f-bd9a-4846-9b98-e2f1b011eb2b",
   "metadata": {},
   "outputs": [
    {
     "data": {
      "text/plain": [
       "DataFrame[summary: string, country: string, country_code: string, continent: string, population: string, indicator: string, daily_count: string, rate_14_day: string, source: string]"
      ]
     },
     "execution_count": 12,
     "metadata": {},
     "output_type": "execute_result"
    }
   ],
   "source": [
    "df_cases_deaths.describe()"
   ]
  },
  {
   "cell_type": "code",
   "execution_count": 13,
   "id": "62df0446-788a-49f2-8432-5fa6a75a6054",
   "metadata": {},
   "outputs": [
    {
     "data": {
      "text/plain": [
       "Row(country='Afghanistan', country_code='AFG', continent='Asia', population=38928341, indicator='confirmed cases', daily_count=0, date=datetime.date(2020, 1, 2), rate_14_day=None, source='Epidemic intelligence, national daily data')"
      ]
     },
     "execution_count": 13,
     "metadata": {},
     "output_type": "execute_result"
    }
   ],
   "source": [
    "df_cases_deaths.head()"
   ]
  },
  {
   "cell_type": "code",
   "execution_count": 14,
   "id": "ef4b779f-d6d0-47ab-a702-aca3ae7ab98f",
   "metadata": {},
   "outputs": [
    {
     "name": "stdout",
     "output_type": "stream",
     "text": [
      "+-------+------------+----------+---------------+-----------+----------+\n",
      "|country|country_code|population|      indicator|daily_count|      date|\n",
      "+-------+------------+----------+---------------+-----------+----------+\n",
      "|Albania|         ALB|   2862427|confirmed cases|          0|2020-01-02|\n",
      "|Albania|         ALB|   2862427|confirmed cases|          0|2020-01-03|\n",
      "|Albania|         ALB|   2862427|confirmed cases|          0|2020-01-04|\n",
      "|Albania|         ALB|   2862427|confirmed cases|          0|2020-01-05|\n",
      "|Albania|         ALB|   2862427|confirmed cases|          0|2020-01-06|\n",
      "|Albania|         ALB|   2862427|confirmed cases|          0|2020-01-07|\n",
      "|Albania|         ALB|   2862427|confirmed cases|          0|2020-01-08|\n",
      "|Albania|         ALB|   2862427|confirmed cases|          0|2020-01-09|\n",
      "|Albania|         ALB|   2862427|confirmed cases|          0|2020-01-10|\n",
      "|Albania|         ALB|   2862427|confirmed cases|          0|2020-01-11|\n",
      "|Albania|         ALB|   2862427|confirmed cases|          0|2020-01-12|\n",
      "|Albania|         ALB|   2862427|confirmed cases|          0|2020-01-13|\n",
      "|Albania|         ALB|   2862427|confirmed cases|          0|2020-01-14|\n",
      "|Albania|         ALB|   2862427|confirmed cases|          0|2020-01-15|\n",
      "|Albania|         ALB|   2862427|confirmed cases|          0|2020-01-16|\n",
      "|Albania|         ALB|   2862427|confirmed cases|          0|2020-01-17|\n",
      "|Albania|         ALB|   2862427|confirmed cases|          0|2020-01-18|\n",
      "|Albania|         ALB|   2862427|confirmed cases|          0|2020-01-19|\n",
      "|Albania|         ALB|   2862427|confirmed cases|          0|2020-01-20|\n",
      "|Albania|         ALB|   2862427|confirmed cases|          0|2020-01-21|\n",
      "+-------+------------+----------+---------------+-----------+----------+\n",
      "only showing top 20 rows\n",
      "\n"
     ]
    }
   ],
   "source": [
    "### FILTER DATAFRAME ###\n",
    "\n",
    "df_cases_deaths = (\n",
    "    df_cases_deaths\n",
    "    .where(col('continent') == 'Europe')\n",
    "    .drop('continent', 'rate_14_day', 'source')\n",
    ")\n",
    "\n",
    "df_cases_deaths.show()"
   ]
  },
  {
   "cell_type": "code",
   "execution_count": 15,
   "id": "d7ded9dc-5f33-48d1-b137-d36b6570759d",
   "metadata": {},
   "outputs": [],
   "source": [
    "pivoted_df_cases_and_death = (\n",
    "    df_cases_deaths\n",
    "    .groupBy('country', 'country_code', 'population', 'date')\n",
    "    .pivot('indicator')\n",
    "    .agg({'daily_count':'sum'})\n",
    "    .orderBy('country', 'country_code', 'date')\n",
    "    .fillna(0)\n",
    ")"
   ]
  },
  {
   "cell_type": "code",
   "execution_count": 16,
   "id": "26f7518f-d266-4a89-90b4-3a81e6cd31bc",
   "metadata": {},
   "outputs": [
    {
     "name": "stdout",
     "output_type": "stream",
     "text": [
      "+-------+------------+----------+----------+---------------+------+\n",
      "|country|country_code|population|      date|confirmed cases|deaths|\n",
      "+-------+------------+----------+----------+---------------+------+\n",
      "|Albania|         ALB|   2862427|2020-01-02|              0|     0|\n",
      "|Albania|         ALB|   2862427|2020-01-03|              0|     0|\n",
      "|Albania|         ALB|   2862427|2020-01-04|              0|     0|\n",
      "|Albania|         ALB|   2862427|2020-01-05|              0|     0|\n",
      "|Albania|         ALB|   2862427|2020-01-06|              0|     0|\n",
      "|Albania|         ALB|   2862427|2020-01-07|              0|     0|\n",
      "|Albania|         ALB|   2862427|2020-01-08|              0|     0|\n",
      "|Albania|         ALB|   2862427|2020-01-09|              0|     0|\n",
      "|Albania|         ALB|   2862427|2020-01-10|              0|     0|\n",
      "|Albania|         ALB|   2862427|2020-01-11|              0|     0|\n",
      "|Albania|         ALB|   2862427|2020-01-12|              0|     0|\n",
      "|Albania|         ALB|   2862427|2020-01-13|              0|     0|\n",
      "|Albania|         ALB|   2862427|2020-01-14|              0|     0|\n",
      "|Albania|         ALB|   2862427|2020-01-15|              0|     0|\n",
      "|Albania|         ALB|   2862427|2020-01-16|              0|     0|\n",
      "|Albania|         ALB|   2862427|2020-01-17|              0|     0|\n",
      "|Albania|         ALB|   2862427|2020-01-18|              0|     0|\n",
      "|Albania|         ALB|   2862427|2020-01-19|              0|     0|\n",
      "|Albania|         ALB|   2862427|2020-01-20|              0|     0|\n",
      "|Albania|         ALB|   2862427|2020-01-21|              0|     0|\n",
      "+-------+------------+----------+----------+---------------+------+\n",
      "only showing top 20 rows\n",
      "\n"
     ]
    }
   ],
   "source": [
    "pivoted_df_cases_and_death.show()"
   ]
  },
  {
   "cell_type": "code",
   "execution_count": 17,
   "id": "f6bb7222-c8ea-4cfa-b75e-89725675aba4",
   "metadata": {},
   "outputs": [
    {
     "data": {
      "text/plain": [
       "Row(country='Aruba', country_code_2_digit='AW', country_code_3_digit='ABW', continent='America', population=106766)"
      ]
     },
     "execution_count": 17,
     "metadata": {},
     "output_type": "execute_result"
    }
   ],
   "source": [
    "df_country_lookup.head()"
   ]
  },
  {
   "cell_type": "code",
   "execution_count": 18,
   "id": "02004dab-28b1-4e12-b325-bf92afad1421",
   "metadata": {},
   "outputs": [],
   "source": [
    "condition = [pivoted_df_cases_and_death.country == df_country_lookup.country]\n",
    "\n",
    "fields = [\n",
    "    pivoted_df_cases_and_death['country']\n",
    "    ,df_country_lookup['country_code_3_digit']\n",
    "    ,df_country_lookup['country_code_2_digit']\n",
    "    ,pivoted_df_cases_and_death['population']\n",
    "    ,'cases_count'\n",
    "    ,'deaths_count'\n",
    "    ,'reported_date'\n",
    "]\n",
    "\n",
    "df_cases_and_death = (\n",
    "    pivoted_df_cases_and_death\n",
    "    .join(df_country_lookup, on=condition, how='left')\n",
    "    .where(col('continent') == 'Europe')\n",
    "    .withColumnRenamed('confirmed cases', 'cases_count')\n",
    "    .withColumnRenamed('deaths', 'deaths_count')\n",
    "    .withColumnRenamed('date', 'reported_date')\n",
    "    .orderBy(pivoted_df_cases_and_death['country'])\n",
    "    .select(fields) # projection\n",
    ")"
   ]
  },
  {
   "cell_type": "code",
   "execution_count": 19,
   "id": "645173fc-645d-408d-afb1-d4888145888b",
   "metadata": {},
   "outputs": [
    {
     "name": "stdout",
     "output_type": "stream",
     "text": [
      "+-------+--------------------+--------------------+----------+-----------+------------+-------------+\n",
      "|country|country_code_3_digit|country_code_2_digit|population|cases_count|deaths_count|reported_date|\n",
      "+-------+--------------------+--------------------+----------+-----------+------------+-------------+\n",
      "|Albania|                 ALB|                  AL|   2862427|         15|           0|   2020-05-21|\n",
      "|Albania|                 ALB|                  AL|   2862427|          0|           0|   2020-01-11|\n",
      "|Albania|                 ALB|                  AL|   2862427|         77|           2|   2020-06-27|\n",
      "|Albania|                 ALB|                  AL|   2862427|          0|           0|   2020-01-03|\n",
      "|Albania|                 ALB|                  AL|   2862427|          0|           0|   2020-03-03|\n",
      "|Albania|                 ALB|                  AL|   2862427|          4|           0|   2020-03-18|\n",
      "|Albania|                 ALB|                  AL|   2862427|         14|           2|   2020-04-29|\n",
      "|Albania|                 ALB|                  AL|   2862427|          0|           0|   2020-02-16|\n",
      "|Albania|                 ALB|                  AL|   2862427|        159|           1|   2020-10-03|\n",
      "|Albania|                 ALB|                  AL|   2862427|         18|           0|   2020-05-16|\n",
      "|Albania|                 ALB|                  AL|   2862427|        125|           5|   2020-09-19|\n",
      "|Albania|                 ALB|                  AL|   2862427|         16|           1|   2020-04-30|\n",
      "|Albania|                 ALB|                  AL|   2862427|          0|           0|   2020-01-09|\n",
      "|Albania|                 ALB|                  AL|   2862427|          0|           0|   2020-01-26|\n",
      "|Albania|                 ALB|                  AL|   2862427|        131|           3|   2020-09-23|\n",
      "|Albania|                 ALB|                  AL|   2862427|          0|           0|   2020-01-22|\n",
      "|Albania|                 ALB|                  AL|   2862427|          0|           0|   2020-01-31|\n",
      "|Albania|                 ALB|                  AL|   2862427|        124|           3|   2020-09-26|\n",
      "|Albania|                 ALB|                  AL|   2862427|        152|           3|   2020-10-04|\n",
      "|Albania|                 ALB|                  AL|   2862427|          0|           0|   2020-02-24|\n",
      "+-------+--------------------+--------------------+----------+-----------+------------+-------------+\n",
      "only showing top 20 rows\n",
      "\n"
     ]
    }
   ],
   "source": [
    "df_cases_and_death.show()"
   ]
  },
  {
   "cell_type": "code",
   "execution_count": 21,
   "id": "8ed49c27-9f03-4b80-9749-701a26c49fe8",
   "metadata": {
    "scrolled": true
   },
   "outputs": [
    {
     "data": {
      "text/plain": [
       "[Row(country='Albania', country_code_3_digit='ALB', country_code_2_digit='AL', population=2862427, cases_count=77, deaths_count=2, reported_date=datetime.date(2020, 6, 27)),\n",
       " Row(country='Albania', country_code_3_digit='ALB', country_code_2_digit='AL', population=2862427, cases_count=0, deaths_count=0, reported_date=datetime.date(2020, 3, 3)),\n",
       " Row(country='Albania', country_code_3_digit='ALB', country_code_2_digit='AL', population=2862427, cases_count=0, deaths_count=0, reported_date=datetime.date(2020, 1, 3)),\n",
       " Row(country='Albania', country_code_3_digit='ALB', country_code_2_digit='AL', population=2862427, cases_count=0, deaths_count=0, reported_date=datetime.date(2020, 1, 9)),\n",
       " Row(country='Albania', country_code_3_digit='ALB', country_code_2_digit='AL', population=2862427, cases_count=0, deaths_count=0, reported_date=datetime.date(2020, 1, 26))]"
      ]
     },
     "execution_count": 21,
     "metadata": {},
     "output_type": "execute_result"
    }
   ],
   "source": [
    "df_cases_and_death.head(5)"
   ]
  },
  {
   "cell_type": "code",
   "execution_count": 22,
   "id": "18343393-d496-44f1-9468-b98c45de5d54",
   "metadata": {},
   "outputs": [
    {
     "data": {
      "text/plain": [
       "[Row(country='the Holy See/ Vatican City State', country_code_3_digit='VAT', country_code_2_digit='VA', population=809, cases_count=0, deaths_count=0, reported_date=datetime.date(2020, 7, 13)),\n",
       " Row(country='the Holy See/ Vatican City State', country_code_3_digit='VAT', country_code_2_digit='VA', population=809, cases_count=0, deaths_count=0, reported_date=datetime.date(2020, 7, 30)),\n",
       " Row(country='the Holy See/ Vatican City State', country_code_3_digit='VAT', country_code_2_digit='VA', population=809, cases_count=0, deaths_count=0, reported_date=datetime.date(2020, 6, 10)),\n",
       " Row(country='the Holy See/ Vatican City State', country_code_3_digit='VAT', country_code_2_digit='VA', population=809, cases_count=0, deaths_count=0, reported_date=datetime.date(2020, 3, 17)),\n",
       " Row(country='the Holy See/ Vatican City State', country_code_3_digit='VAT', country_code_2_digit='VA', population=809, cases_count=0, deaths_count=0, reported_date=datetime.date(2020, 8, 30))]"
      ]
     },
     "execution_count": 22,
     "metadata": {},
     "output_type": "execute_result"
    }
   ],
   "source": [
    "df_cases_and_death.tail(5)"
   ]
  }
 ],
 "metadata": {
  "kernelspec": {
   "display_name": "Python 3 (ipykernel)",
   "language": "python",
   "name": "python3"
  },
  "language_info": {
   "codemirror_mode": {
    "name": "ipython",
    "version": 3
   },
   "file_extension": ".py",
   "mimetype": "text/x-python",
   "name": "python",
   "nbconvert_exporter": "python",
   "pygments_lexer": "ipython3",
   "version": "3.11.5"
  }
 },
 "nbformat": 4,
 "nbformat_minor": 5
}
