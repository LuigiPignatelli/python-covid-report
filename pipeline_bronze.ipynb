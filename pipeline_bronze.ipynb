{
 "cells": [
  {
   "cell_type": "code",
   "execution_count": 11,
   "id": "1c3454c1-f2d7-410e-b3d6-069f30c011cd",
   "metadata": {},
   "outputs": [
    {
     "name": "stdout",
     "output_type": "stream",
     "text": [
      "following variables have been created:\n",
      "db_name\n",
      "jdbcURI\n",
      "driver\n"
     ]
    }
   ],
   "source": [
    "%run spark_utilities.ipynb"
   ]
  },
  {
   "cell_type": "code",
   "execution_count": 12,
   "id": "c3f782ca-aaa1-4c2e-a032-bc22372e86e4",
   "metadata": {},
   "outputs": [
    {
     "name": "stdout",
     "output_type": "stream",
     "text": [
      "custom methods:\n",
      "normalize_column_name\n",
      "download_files\n"
     ]
    }
   ],
   "source": [
    "%run custom_methods.ipynb"
   ]
  },
  {
   "cell_type": "markdown",
   "id": "5ad65b08-7767-47ce-b35e-71898aeca82c",
   "metadata": {
    "jp-MarkdownHeadingCollapsed": true
   },
   "source": [
    "# *Parameterized query*"
   ]
  },
  {
   "cell_type": "code",
   "execution_count": 13,
   "id": "ebfe31d6-25ee-4265-8248-bd2c211e48ed",
   "metadata": {},
   "outputs": [],
   "source": [
    "get_urls = \"\"\"\n",
    "SELECT\n",
    "    [BasicURL]\n",
    "\t,[RelativeURL]\n",
    "\t,[FileName]\n",
    "FROM [CovidReport].[dbo].[Configs] WHERE IsActive = 1\n",
    "\"\"\""
   ]
  },
  {
   "cell_type": "markdown",
   "id": "b386d8a0-0544-47d2-8f2a-395074d08982",
   "metadata": {
    "jp-MarkdownHeadingCollapsed": true
   },
   "source": [
    "# *Read dbo.ConfigTable*"
   ]
  },
  {
   "cell_type": "code",
   "execution_count": 14,
   "id": "58aae48e-ef45-459d-8fe5-b21ddf81b652",
   "metadata": {},
   "outputs": [],
   "source": [
    "config_table = (\n",
    "    spark\n",
    "    .read.format(\"jdbc\")\n",
    "    .options(\n",
    "        url=jdbcURI,\n",
    "        query=get_urls,\n",
    "        user=usr,\n",
    "        password=pwd\n",
    "    )\n",
    "    .load()\n",
    ")"
   ]
  },
  {
   "cell_type": "code",
   "execution_count": 15,
   "id": "c86cb4d0-b84b-4a12-b716-bc951ade4be1",
   "metadata": {},
   "outputs": [
    {
     "name": "stdout",
     "output_type": "stream",
     "text": [
      "+--------------------+--------------------+--------------------+\n",
      "|            BasicURL|         RelativeURL|            FileName|\n",
      "+--------------------+--------------------+--------------------+\n",
      "|https://raw.githu...|cloudboxacademy/c...|    cases_deaths.csv|\n",
      "|https://raw.githu...|cloudboxacademy/c...|hospital_admissio...|\n",
      "|https://raw.githu...|cloudboxacademy/c...|country_response.csv|\n",
      "+--------------------+--------------------+--------------------+\n",
      "\n"
     ]
    }
   ],
   "source": [
    "config_table.show()"
   ]
  },
  {
   "cell_type": "markdown",
   "id": "1e21f425-2919-40f4-9909-6841c3477cd1",
   "metadata": {
    "jp-MarkdownHeadingCollapsed": true
   },
   "source": [
    "# *Create URL*"
   ]
  },
  {
   "cell_type": "code",
   "execution_count": 16,
   "id": "3c499469-ff58-4e6d-bb98-4de43359a0ab",
   "metadata": {
    "scrolled": true
   },
   "outputs": [
    {
     "name": "stdout",
     "output_type": "stream",
     "text": [
      "+--------------------+--------------------+\n",
      "|                 url|            FileName|\n",
      "+--------------------+--------------------+\n",
      "|https://raw.githu...|    cases_deaths.csv|\n",
      "|https://raw.githu...|hospital_admissio...|\n",
      "|https://raw.githu...|country_response.csv|\n",
      "+--------------------+--------------------+\n",
      "\n"
     ]
    }
   ],
   "source": [
    "urls = (\n",
    "    config_table\n",
    "    .withColumn(\"url\", concat(\"BasicURL\", lit(\"/\"), \"RelativeURL\"))\n",
    "    .select(\"url\",\"FileName\")\n",
    ")\n",
    "\n",
    "urls.show()"
   ]
  },
  {
   "cell_type": "code",
   "execution_count": 17,
   "id": "4e80c6cb-7c36-4a27-8de0-28ae2f7fc618",
   "metadata": {},
   "outputs": [
    {
     "data": {
      "text/plain": [
       "pyspark.sql.dataframe.DataFrame"
      ]
     },
     "execution_count": 17,
     "metadata": {},
     "output_type": "execute_result"
    }
   ],
   "source": [
    "type(urls)"
   ]
  },
  {
   "cell_type": "markdown",
   "id": "7d72c3d2-60d9-4be2-854c-d39eb759e907",
   "metadata": {},
   "source": [
    "# *Download datasets*"
   ]
  },
  {
   "cell_type": "code",
   "execution_count": 10,
   "id": "807cb25d-428a-446d-b47b-73d1a0982ded",
   "metadata": {},
   "outputs": [
    {
     "name": "stdout",
     "output_type": "stream",
     "text": [
      "https://raw.githubusercontent.com/cloudboxacademy/covid19/main/ecdc_data/cases_deaths.csv\n",
      "https://raw.githubusercontent.com/cloudboxacademy/covid19/main/ecdc_data/hospital_admissions.csv\n",
      "https://raw.githubusercontent.com/cloudboxacademy/covid19/main/ecdc_data/country_response.csv\n"
     ]
    }
   ],
   "source": [
    "download_files(urls)"
   ]
  }
 ],
 "metadata": {
  "kernelspec": {
   "display_name": "Python 3 (ipykernel)",
   "language": "python",
   "name": "python3"
  },
  "language_info": {
   "codemirror_mode": {
    "name": "ipython",
    "version": 3
   },
   "file_extension": ".py",
   "mimetype": "text/x-python",
   "name": "python",
   "nbconvert_exporter": "python",
   "pygments_lexer": "ipython3",
   "version": "3.11.5"
  }
 },
 "nbformat": 4,
 "nbformat_minor": 5
}
