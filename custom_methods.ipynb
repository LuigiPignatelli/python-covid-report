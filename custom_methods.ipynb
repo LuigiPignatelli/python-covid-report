{
 "cells": [
  {
   "cell_type": "code",
   "execution_count": 2,
   "id": "b4b1820e-ee7d-46a5-8c85-e3735110e736",
   "metadata": {},
   "outputs": [],
   "source": [
    "from  pyspark.sql.dataframe import DataFrame"
   ]
  },
  {
   "cell_type": "markdown",
   "id": "82ffb919-91a3-455b-bf7f-e54db70832fc",
   "metadata": {},
   "source": [
    "# *Utilities Methods*"
   ]
  },
  {
   "cell_type": "code",
   "execution_count": 3,
   "id": "079583f6-e423-4777-9136-c5d8f5afd494",
   "metadata": {},
   "outputs": [],
   "source": [
    "def normalize_column_name(df: DataFrame) -> DataFrame:\n",
    "    \n",
    "    for old_col in df.columns:\n",
    "        \n",
    "        new_col = str.strip(old_col.lower()).replace(\" \", \"_\")\n",
    "        df = df.withColumnRenamed(old_col, new_col)\n",
    "        \n",
    "    return df"
   ]
  },
  {
   "cell_type": "code",
   "execution_count": 4,
   "id": "ca82dca8-425f-4cf5-8abe-98e23dfb7f93",
   "metadata": {},
   "outputs": [],
   "source": [
    "def download_files(df: DataFrame) -> None:\n",
    "\n",
    "    # does df contain url and file_name?\n",
    "    \n",
    "    for url, file_name in df.collect():\n",
    "        print(url)\n",
    "        \n",
    "        req = requests.get(url)\n",
    "        \n",
    "        url_content = req.content\n",
    "    \n",
    "        path = \"Datasets\\{0}\".format(file_name)\n",
    "        \n",
    "        with open(path, \"wb\") as file:\n",
    "            file.write(url_content)"
   ]
  },
  {
   "cell_type": "code",
   "execution_count": 5,
   "id": "43f071f9-a430-4dec-b15c-eb4e1a212612",
   "metadata": {},
   "outputs": [
    {
     "name": "stdout",
     "output_type": "stream",
     "text": [
      "custom methods:\n",
      "normalize_column_name\n",
      "download_files\n"
     ]
    }
   ],
   "source": [
    "print(\"custom methods:\\nnormalize_column_name\\ndownload_files\")"
   ]
  }
 ],
 "metadata": {
  "kernelspec": {
   "display_name": "Python 3 (ipykernel)",
   "language": "python",
   "name": "python3"
  },
  "language_info": {
   "codemirror_mode": {
    "name": "ipython",
    "version": 3
   },
   "file_extension": ".py",
   "mimetype": "text/x-python",
   "name": "python",
   "nbconvert_exporter": "python",
   "pygments_lexer": "ipython3",
   "version": "3.11.5"
  }
 },
 "nbformat": 4,
 "nbformat_minor": 5
}
