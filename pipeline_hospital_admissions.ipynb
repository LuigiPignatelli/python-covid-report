{
 "cells": [
  {
   "cell_type": "code",
   "execution_count": 134,
   "id": "658500d6-3ee3-44f6-90d7-6dd6584cd8e3",
   "metadata": {},
   "outputs": [
    {
     "name": "stdout",
     "output_type": "stream",
     "text": [
      "following variables have been created:\n",
      "db_name\n",
      "jdbcURI\n",
      "driver\n"
     ]
    }
   ],
   "source": [
    "%run spark_utilities.ipynb"
   ]
  },
  {
   "cell_type": "code",
   "execution_count": 131,
   "id": "0cbba010-2498-41c5-9135-85b9afe34f4a",
   "metadata": {},
   "outputs": [
    {
     "name": "stdout",
     "output_type": "stream",
     "text": [
      "custom methods:\n",
      "normalize_column_name\n",
      "download_files\n"
     ]
    }
   ],
   "source": [
    "%run custom_methods.ipynb"
   ]
  },
  {
   "cell_type": "markdown",
   "id": "1024a725-1cdb-4841-b047-f67acdc90a85",
   "metadata": {
    "jp-MarkdownHeadingCollapsed": true
   },
   "source": [
    "# *Import Datasets*"
   ]
  },
  {
   "cell_type": "code",
   "execution_count": 94,
   "id": "596dad8d-efa1-47bf-8f49-6fba6343f534",
   "metadata": {},
   "outputs": [],
   "source": [
    "file_admission = \"datasets/hospital_admissions.csv\"\n",
    "file_lookup = \"datasets/country_lookup.csv\"\n",
    "\n",
    "if os.path.isfile(file_admission):\n",
    "    df_hospital_admissions = spark.read.csv(file_admission, header=True, inferSchema=True)\n",
    "else:\n",
    "    print(\"File 'hospital_admission.csv' not found\")\n",
    "\n",
    "if os.path.isfile(file_lookup):\n",
    "    df_country_lookup = spark.read.csv(file_lookup, header=True, inferSchema=True)\n",
    "else:\n",
    "    print(\"File 'country_lookup.csv' not found\")"
   ]
  },
  {
   "cell_type": "code",
   "execution_count": 68,
   "id": "da0c492a-0c12-4afb-8973-13974e2b7dc7",
   "metadata": {},
   "outputs": [],
   "source": [
    "# df_hospital_admissions.show()"
   ]
  },
  {
   "cell_type": "code",
   "execution_count": 69,
   "id": "b6446828-da21-41dc-ba2d-56a718dcf754",
   "metadata": {},
   "outputs": [],
   "source": [
    "# df_hospital_admissions.dtypes"
   ]
  },
  {
   "cell_type": "markdown",
   "id": "356fbc06-8085-493f-b758-f82283510bac",
   "metadata": {
    "jp-MarkdownHeadingCollapsed": true
   },
   "source": [
    "# *Drop column - hospital admission*"
   ]
  },
  {
   "cell_type": "code",
   "execution_count": 95,
   "id": "1e65f4b8-ec91-4262-b029-f4c27afb5717",
   "metadata": {},
   "outputs": [],
   "source": [
    "df_hospital_admissions = df_hospital_admissions.drop('url')"
   ]
  },
  {
   "cell_type": "code",
   "execution_count": 71,
   "id": "9f0384af-2638-4054-9a3f-88ab4ff8379a",
   "metadata": {
    "scrolled": true
   },
   "outputs": [],
   "source": [
    "# df_hospital_admissions.show()"
   ]
  },
  {
   "cell_type": "markdown",
   "id": "b184de88-ea2e-488e-885b-636bbc7f88f1",
   "metadata": {
    "jp-MarkdownHeadingCollapsed": true
   },
   "source": [
    "# Show Country Lookup"
   ]
  },
  {
   "cell_type": "code",
   "execution_count": 72,
   "id": "226d6478-c773-4ad7-a347-e671f3aafae2",
   "metadata": {
    "scrolled": true
   },
   "outputs": [],
   "source": [
    "# df_country_lookup.show()"
   ]
  },
  {
   "cell_type": "code",
   "execution_count": 73,
   "id": "011c3265-5366-41a6-8b8d-1c6e69908882",
   "metadata": {
    "scrolled": true
   },
   "outputs": [],
   "source": [
    "# df_country_lookup.dtypes"
   ]
  },
  {
   "cell_type": "markdown",
   "id": "7c3c3e9f-6bdc-4f4f-90fc-d76838a7beed",
   "metadata": {
    "jp-MarkdownHeadingCollapsed": true
   },
   "source": [
    "# *Join hospital admission and country lookup*"
   ]
  },
  {
   "cell_type": "code",
   "execution_count": 96,
   "id": "55a8c29a-9301-4686-8dbe-fe52623dec8f",
   "metadata": {},
   "outputs": [],
   "source": [
    "condition = [df_hospital_admissions.country == df_country_lookup.country]\n",
    "\n",
    "fields = [\n",
    "    df_hospital_admissions['country']\n",
    "    ,'country_code_2_digit'\n",
    "    ,'country_code_3_digit'\n",
    "    ,'indicator'\n",
    "    ,'reported_date'\n",
    "    ,'reported_year_week'\n",
    "    ,'population'\n",
    "    ,'value'\n",
    "    ,'source'\n",
    "]\n",
    "\n",
    "df_hospital_admissions = (\n",
    "    df_hospital_admissions\n",
    "    .join(df_country_lookup, on=condition, how='left')\n",
    "    .withColumnRenamed('date', 'reported_date')\n",
    "    .withColumnRenamed('year_week', 'reported_year_week')\n",
    "    .select(fields)\n",
    ")"
   ]
  },
  {
   "cell_type": "code",
   "execution_count": 80,
   "id": "ec39bcb8-8116-4ab1-8751-cbf2096fb924",
   "metadata": {
    "scrolled": true
   },
   "outputs": [
    {
     "name": "stdout",
     "output_type": "stream",
     "text": [
      "+-------+--------------------+--------------------+--------------------+-------------+------------------+----------+------+---------------+\n",
      "|country|country_code_2_digit|country_code_3_digit|           indicator|reported_date|reported_year_week|population| value|         source|\n",
      "+-------+--------------------+--------------------+--------------------+-------------+------------------+----------+------+---------------+\n",
      "|Austria|                  AT|                 AUT|Daily hospital oc...|   2020-04-02|          2020-W14|   8858775|1057.0|   Surveillance|\n",
      "|Austria|                  AT|                 AUT|Daily hospital oc...|   2020-04-08|          2020-W15|   8858775|1096.0|   Surveillance|\n",
      "|Austria|                  AT|                 AUT|Daily hospital oc...|   2020-04-15|          2020-W16|   8858775|1001.0|   Surveillance|\n",
      "|Austria|                  AT|                 AUT|Daily hospital oc...|   2020-04-16|          2020-W16|   8858775| 967.0|   Surveillance|\n",
      "|Austria|                  AT|                 AUT|Daily hospital oc...|   2020-04-17|          2020-W16|   8858775| 909.0|   Surveillance|\n",
      "|Austria|                  AT|                 AUT|Daily hospital oc...|   2020-04-19|          2020-W16|   8858775| 817.0|   Surveillance|\n",
      "|Austria|                  AT|                 AUT|Daily hospital oc...|   2020-04-21|          2020-W17|   8858775| 756.0|   Surveillance|\n",
      "|Austria|                  AT|                 AUT|Daily hospital oc...|   2020-04-22|          2020-W17|   8858775| 700.0|   Surveillance|\n",
      "|Austria|                  AT|                 AUT|Daily hospital oc...|   2020-04-23|          2020-W17|   8858775| 677.0|   Surveillance|\n",
      "|Austria|                  AT|                 AUT|Daily hospital oc...|   2020-04-24|          2020-W17|   8858775| 651.0|   Surveillance|\n",
      "|Austria|                  AT|                 AUT|Daily hospital oc...|   2020-04-27|          2020-W18|   8858775| 579.0|   Surveillance|\n",
      "|Austria|                  AT|                 AUT|Daily hospital oc...|   2020-04-28|          2020-W18|   8858775| 561.0|   Surveillance|\n",
      "|Austria|                  AT|                 AUT|Daily hospital oc...|   2020-04-29|          2020-W18|   8858775| 517.0|   Surveillance|\n",
      "|Austria|                  AT|                 AUT|Daily hospital oc...|   2020-04-30|          2020-W18|   8858775| 500.0|Country_Website|\n",
      "|Austria|                  AT|                 AUT|Daily hospital oc...|   2020-05-02|          2020-W18|   8858775| 428.0|Country_Website|\n",
      "|Austria|                  AT|                 AUT|Daily hospital oc...|   2020-05-03|          2020-W18|   8858775| 422.0|Country_Website|\n",
      "|Austria|                  AT|                 AUT|Daily hospital oc...|   2020-05-04|          2020-W19|   8858775| 420.0|Country_Website|\n",
      "|Austria|                  AT|                 AUT|Daily hospital oc...|   2020-05-05|          2020-W19|   8858775| 418.0|Country_Website|\n",
      "|Austria|                  AT|                 AUT|Daily hospital oc...|   2020-05-06|          2020-W19|   8858775| 418.0|Country_Website|\n",
      "|Austria|                  AT|                 AUT|Daily hospital oc...|   2020-05-07|          2020-W19|   8858775| 360.0|Country_Website|\n",
      "+-------+--------------------+--------------------+--------------------+-------------+------------------+----------+------+---------------+\n",
      "only showing top 20 rows\n",
      "\n"
     ]
    }
   ],
   "source": [
    "df_hospital_admissions.show()"
   ]
  },
  {
   "cell_type": "code",
   "execution_count": 76,
   "id": "ec62dff5-28b0-48de-97b3-4bdfcca8c75b",
   "metadata": {},
   "outputs": [
    {
     "data": {
      "text/plain": [
       "8977"
      ]
     },
     "execution_count": 76,
     "metadata": {},
     "output_type": "execute_result"
    }
   ],
   "source": [
    "df_hospital_admissions.count()"
   ]
  },
  {
   "cell_type": "markdown",
   "id": "6f93ca39-eed3-47f7-8224-4f3f0ef89bc8",
   "metadata": {
    "jp-MarkdownHeadingCollapsed": true
   },
   "source": [
    "# *Split dataset between daily and weekly*"
   ]
  },
  {
   "cell_type": "code",
   "execution_count": 15,
   "id": "ecb833ca-7b23-4819-9961-776ba3a84856",
   "metadata": {},
   "outputs": [
    {
     "data": {
      "text/plain": [
       "[Row(indicator='Daily hospital occupancy'),\n",
       " Row(indicator='Daily ICU occupancy'),\n",
       " Row(indicator='Weekly new hospital admissions per 100k'),\n",
       " Row(indicator='Weekly new ICU admissions per 100k')]"
      ]
     },
     "execution_count": 15,
     "metadata": {},
     "output_type": "execute_result"
    }
   ],
   "source": [
    "df_hospital_admissions.select('indicator').distinct().collect()"
   ]
  },
  {
   "cell_type": "code",
   "execution_count": 97,
   "id": "b9a82dd6-e79a-4069-9f81-f6d31d1f4323",
   "metadata": {},
   "outputs": [],
   "source": [
    "df_daily_hospital_admissions = (\n",
    "    df_hospital_admissions\n",
    "    .where((col('indicator') == 'Daily hospital occupancy') | (col('indicator') == 'Daily ICU occupancy'))\n",
    ")\n",
    "\n",
    "df_weekly_hospital_admissions = (\n",
    "    df_hospital_admissions\n",
    "    .where((col('indicator') == 'Weekly new hospital admissions per 100k') | (col('indicator') == 'Weekly new ICU admissions per 100k'))\n",
    ")"
   ]
  },
  {
   "cell_type": "code",
   "execution_count": 14,
   "id": "279b02ad-a99b-47f0-8e08-126957a0fa09",
   "metadata": {},
   "outputs": [
    {
     "name": "stdout",
     "output_type": "stream",
     "text": [
      "+-------+--------------------+--------------------+--------------------+-------------+------------------+----------+------+---------------+\n",
      "|country|country_code_2_digit|country_code_3_digit|           indicator|reported_date|reported_year_week|population| value|         source|\n",
      "+-------+--------------------+--------------------+--------------------+-------------+------------------+----------+------+---------------+\n",
      "|Austria|                  AT|                 AUT|Daily hospital oc...|   2020-04-02|          2020-W14|   8858775|1057.0|   Surveillance|\n",
      "|Austria|                  AT|                 AUT|Daily hospital oc...|   2020-04-08|          2020-W15|   8858775|1096.0|   Surveillance|\n",
      "|Austria|                  AT|                 AUT|Daily hospital oc...|   2020-04-15|          2020-W16|   8858775|1001.0|   Surveillance|\n",
      "|Austria|                  AT|                 AUT|Daily hospital oc...|   2020-04-16|          2020-W16|   8858775| 967.0|   Surveillance|\n",
      "|Austria|                  AT|                 AUT|Daily hospital oc...|   2020-04-17|          2020-W16|   8858775| 909.0|   Surveillance|\n",
      "|Austria|                  AT|                 AUT|Daily hospital oc...|   2020-04-19|          2020-W16|   8858775| 817.0|   Surveillance|\n",
      "|Austria|                  AT|                 AUT|Daily hospital oc...|   2020-04-21|          2020-W17|   8858775| 756.0|   Surveillance|\n",
      "|Austria|                  AT|                 AUT|Daily hospital oc...|   2020-04-22|          2020-W17|   8858775| 700.0|   Surveillance|\n",
      "|Austria|                  AT|                 AUT|Daily hospital oc...|   2020-04-23|          2020-W17|   8858775| 677.0|   Surveillance|\n",
      "|Austria|                  AT|                 AUT|Daily hospital oc...|   2020-04-24|          2020-W17|   8858775| 651.0|   Surveillance|\n",
      "|Austria|                  AT|                 AUT|Daily hospital oc...|   2020-04-27|          2020-W18|   8858775| 579.0|   Surveillance|\n",
      "|Austria|                  AT|                 AUT|Daily hospital oc...|   2020-04-28|          2020-W18|   8858775| 561.0|   Surveillance|\n",
      "|Austria|                  AT|                 AUT|Daily hospital oc...|   2020-04-29|          2020-W18|   8858775| 517.0|   Surveillance|\n",
      "|Austria|                  AT|                 AUT|Daily hospital oc...|   2020-04-30|          2020-W18|   8858775| 500.0|Country_Website|\n",
      "|Austria|                  AT|                 AUT|Daily hospital oc...|   2020-05-02|          2020-W18|   8858775| 428.0|Country_Website|\n",
      "|Austria|                  AT|                 AUT|Daily hospital oc...|   2020-05-03|          2020-W18|   8858775| 422.0|Country_Website|\n",
      "|Austria|                  AT|                 AUT|Daily hospital oc...|   2020-05-04|          2020-W19|   8858775| 420.0|Country_Website|\n",
      "|Austria|                  AT|                 AUT|Daily hospital oc...|   2020-05-05|          2020-W19|   8858775| 418.0|Country_Website|\n",
      "|Austria|                  AT|                 AUT|Daily hospital oc...|   2020-05-06|          2020-W19|   8858775| 418.0|Country_Website|\n",
      "|Austria|                  AT|                 AUT|Daily hospital oc...|   2020-05-07|          2020-W19|   8858775| 360.0|Country_Website|\n",
      "+-------+--------------------+--------------------+--------------------+-------------+------------------+----------+------+---------------+\n",
      "only showing top 20 rows\n",
      "\n"
     ]
    }
   ],
   "source": [
    "# df_daily_hospital_admissions.show()"
   ]
  },
  {
   "cell_type": "code",
   "execution_count": 78,
   "id": "c57b8e86-debb-4f49-948b-3647fec9a19f",
   "metadata": {},
   "outputs": [
    {
     "data": {
      "text/plain": [
       "8110"
      ]
     },
     "execution_count": 78,
     "metadata": {},
     "output_type": "execute_result"
    }
   ],
   "source": [
    "df_daily_hospital_admissions.count()"
   ]
  },
  {
   "cell_type": "code",
   "execution_count": 65,
   "id": "09d7497b-a213-43c5-84b3-c649ac6552eb",
   "metadata": {},
   "outputs": [
    {
     "name": "stdout",
     "output_type": "stream",
     "text": [
      "+-------+--------------------+------------------+-----------------+\n",
      "|country|           indicator|reported_year_week|            value|\n",
      "+-------+--------------------+------------------+-----------------+\n",
      "|Belgium|Weekly new hospit...|          2020-W43| 28.3793340135877|\n",
      "|Belgium|Weekly new hospit...|          2020-W42| 15.4510677342511|\n",
      "|Belgium|Weekly new hospit...|          2020-W41| 7.68188678313047|\n",
      "|Belgium|Weekly new hospit...|          2020-W40| 4.72261448826544|\n",
      "|Belgium|Weekly new hospit...|          2020-W39| 3.91077872595733|\n",
      "|Belgium|Weekly new hospit...|          2020-W38| 2.76722512528677|\n",
      "|Belgium|Weekly new hospit...|          2020-W37| 1.85936577818954|\n",
      "|Belgium|Weekly new hospit...|          2020-W36| 1.03880059908242|\n",
      "|Belgium|Weekly new hospit...|          2020-W35|0.899129930298226|\n",
      "|Belgium|Weekly new hospit...|          2020-W34| 1.48400085583202|\n",
      "|Belgium|Weekly new hospit...|          2020-W33|  2.1299776989589|\n",
      "|Belgium|Weekly new hospit...|          2020-W32| 1.64985977501325|\n",
      "|Belgium|Weekly new hospit...|          2020-W31|   1.466542022234|\n",
      "|Belgium|Weekly new hospit...|          2020-W30| 1.08244768307748|\n",
      "|Belgium|Weekly new hospit...|          2020-W29|0.820565179107119|\n",
      "|Belgium|Weekly new hospit...|          2020-W28|0.567412091935774|\n",
      "|Belgium|Weekly new hospit...|          2020-W27| 0.68962392712194|\n",
      "|Belgium|Weekly new hospit...|          2020-W26|0.855482846303166|\n",
      "|Belgium|Weekly new hospit...|          2020-W25| 1.06498884947945|\n",
      "|Belgium|Weekly new hospit...|          2020-W24|  1.2483066022587|\n",
      "+-------+--------------------+------------------+-----------------+\n",
      "only showing top 20 rows\n",
      "\n"
     ]
    }
   ],
   "source": [
    "fields = [\n",
    "    'country'\n",
    "    ,'indicator'\n",
    "    ,'reported_year_week'\n",
    "    ,'value'\n",
    "]\n",
    "\n",
    "df_weekly_hospital_admissions.select(fields).orderBy('country', col('reported_year_week').desc()).show()"
   ]
  },
  {
   "cell_type": "code",
   "execution_count": 17,
   "id": "9553cad2-f374-496b-a971-51a2fc6d980c",
   "metadata": {},
   "outputs": [
    {
     "data": {
      "text/plain": [
       "867"
      ]
     },
     "execution_count": 17,
     "metadata": {},
     "output_type": "execute_result"
    }
   ],
   "source": [
    "df_weekly_hospital_admissions.count()"
   ]
  },
  {
   "cell_type": "markdown",
   "id": "c1c801cc-9dc2-4968-8a4c-89dd4f05c641",
   "metadata": {
    "jp-MarkdownHeadingCollapsed": true
   },
   "source": [
    "# *Import dim date datasets*"
   ]
  },
  {
   "cell_type": "code",
   "execution_count": 98,
   "id": "770bcb28-bf30-4f3f-9c9e-208fb747b0e5",
   "metadata": {},
   "outputs": [],
   "source": [
    "file_date = \"datasets/dim_date.csv\"\n",
    "\n",
    "if os.path.isfile(file_date):\n",
    "    df_dim_date = spark.read.csv(\"datasets/dim_date.csv\", header=True, inferSchema=True)\n",
    "else:\n",
    "    print(\"File 'dim_date.csv' not found\")"
   ]
  },
  {
   "cell_type": "code",
   "execution_count": 79,
   "id": "c82e34c0-71d7-4ed3-ad23-4bc575065adc",
   "metadata": {
    "scrolled": true
   },
   "outputs": [],
   "source": [
    "# df_dim_date.show()"
   ]
  },
  {
   "cell_type": "markdown",
   "id": "8fa1265d-b3b3-4744-be35-cc06073b92cc",
   "metadata": {
    "jp-MarkdownHeadingCollapsed": true
   },
   "source": [
    "# *Dim date aggregation*"
   ]
  },
  {
   "cell_type": "code",
   "execution_count": 99,
   "id": "02e5cd5a-831c-4e0b-9944-cfc54cd31430",
   "metadata": {},
   "outputs": [],
   "source": [
    "fields = [\n",
    "    'ecdc_year_week'\n",
    "    ,'start_week_date'\n",
    "    ,'end_week_date'\n",
    "]\n",
    "\n",
    "aggregated_dim_date = (\n",
    "    df_dim_date\n",
    "    .withColumn('ecdc_year_week', concat('year', lit('-W'), lpad('week_of_year', 2, '0')))\n",
    "    .groupBy('ecdc_year_week')\n",
    "    .agg(\n",
    "        min('date').alias('start_week_date')\n",
    "        ,max('date').alias('end_week_date')\n",
    "    )\n",
    "    .select(fields)\n",
    ")"
   ]
  },
  {
   "cell_type": "code",
   "execution_count": 22,
   "id": "767c0dba-6385-4dc2-a3e1-3521cdb70787",
   "metadata": {
    "scrolled": true
   },
   "outputs": [
    {
     "name": "stdout",
     "output_type": "stream",
     "text": [
      "+--------------+---------------+-------------+\n",
      "|ecdc_year_week|start_week_date|end_week_date|\n",
      "+--------------+---------------+-------------+\n",
      "|      2020-W32|     2020-08-02|   2020-08-08|\n",
      "|      2022-W39|     2022-09-18|   2022-09-24|\n",
      "|      2020-W47|     2020-11-15|   2020-11-21|\n",
      "|      2020-W10|     2020-03-01|   2020-03-07|\n",
      "|      2020-W13|     2020-03-22|   2020-03-28|\n",
      "|      2021-W53|     2021-12-26|   2021-12-31|\n",
      "|      2020-W12|     2020-03-15|   2020-03-21|\n",
      "|      2021-W42|     2021-10-10|   2021-10-16|\n",
      "|      2021-W45|     2021-10-31|   2021-11-06|\n",
      "|      2020-W44|     2020-10-25|   2020-10-31|\n",
      "|      2022-W38|     2022-09-11|   2022-09-17|\n",
      "|      2021-W22|     2021-05-23|   2021-05-29|\n",
      "|      2020-W08|     2020-02-16|   2020-02-22|\n",
      "|      2020-W34|     2020-08-16|   2020-08-22|\n",
      "|      2022-W17|     2022-04-17|   2022-04-23|\n",
      "|      2021-W51|     2021-12-12|   2021-12-18|\n",
      "|      2021-W43|     2021-10-17|   2021-10-23|\n",
      "|      2020-W26|     2020-06-21|   2020-06-27|\n",
      "|      2020-W36|     2020-08-30|   2020-09-05|\n",
      "|      2021-W03|     2021-01-10|   2021-01-16|\n",
      "+--------------+---------------+-------------+\n",
      "only showing top 20 rows\n",
      "\n"
     ]
    }
   ],
   "source": [
    "aggregated_dim_date.orderBy(col('ecdc_year_week').desc()).show()"
   ]
  },
  {
   "cell_type": "markdown",
   "id": "350dd59a-ffc3-4972-acb6-fb6f19e7d457",
   "metadata": {
    "jp-MarkdownHeadingCollapsed": true
   },
   "source": [
    "# *Join weekly hospital admission with aggregate dim date*"
   ]
  },
  {
   "cell_type": "code",
   "execution_count": 100,
   "id": "b02b319c-7684-4f7f-8d4a-65c936acb211",
   "metadata": {},
   "outputs": [],
   "source": [
    "condition = [df_weekly_hospital_admissions.reported_year_week == aggregated_dim_date.ecdc_year_week]\n",
    "\n",
    "fields = [\n",
    "    'country'\n",
    "    ,'country_code_2_digit'\n",
    "    ,'country_code_3_digit'\n",
    "    ,'indicator'\n",
    "    ,'reported_date'\n",
    "    ,'population'\n",
    "    ,'value'\n",
    "    ,'source'\n",
    "    ,'reported_year_week' # ecdc_year_week\n",
    "    ,'start_week_date'\n",
    "    ,'end_week_date'\n",
    "]\n",
    "\n",
    "df_weekly_hospital_admissions = (\n",
    "    df_weekly_hospital_admissions\n",
    "    .join(aggregated_dim_date, on=condition, how='inner') # left\n",
    "    .select(fields)\n",
    ")"
   ]
  },
  {
   "cell_type": "code",
   "execution_count": 84,
   "id": "1fe3c8e2-cc45-4987-ad87-f254e7eea9bd",
   "metadata": {},
   "outputs": [
    {
     "name": "stdout",
     "output_type": "stream",
     "text": [
      "+-------+--------------------+--------------------+----------+-----------------+------------------+---------------+-------------+\n",
      "|country|country_code_2_digit|           indicator|population|            value|reported_year_week|start_week_date|end_week_date|\n",
      "+-------+--------------------+--------------------+----------+-----------------+------------------+---------------+-------------+\n",
      "|Belgium|                  BE|Weekly new hospit...|  11455519| 28.3793340135877|          2020-W43|     2020-10-18|   2020-10-24|\n",
      "|Belgium|                  BE|Weekly new hospit...|  11455519| 15.4510677342511|          2020-W42|     2020-10-11|   2020-10-17|\n",
      "|Belgium|                  BE|Weekly new hospit...|  11455519| 7.68188678313047|          2020-W41|     2020-10-04|   2020-10-10|\n",
      "|Belgium|                  BE|Weekly new hospit...|  11455519| 4.72261448826544|          2020-W40|     2020-09-27|   2020-10-03|\n",
      "|Belgium|                  BE|Weekly new hospit...|  11455519| 3.91077872595733|          2020-W39|     2020-09-20|   2020-09-26|\n",
      "|Belgium|                  BE|Weekly new hospit...|  11455519| 2.76722512528677|          2020-W38|     2020-09-13|   2020-09-19|\n",
      "|Belgium|                  BE|Weekly new hospit...|  11455519| 1.85936577818954|          2020-W37|     2020-09-06|   2020-09-12|\n",
      "|Belgium|                  BE|Weekly new hospit...|  11455519| 1.03880059908242|          2020-W36|     2020-08-30|   2020-09-05|\n",
      "|Belgium|                  BE|Weekly new hospit...|  11455519|0.899129930298226|          2020-W35|     2020-08-23|   2020-08-29|\n",
      "|Belgium|                  BE|Weekly new hospit...|  11455519| 1.48400085583202|          2020-W34|     2020-08-16|   2020-08-22|\n",
      "|Belgium|                  BE|Weekly new hospit...|  11455519|  2.1299776989589|          2020-W33|     2020-08-09|   2020-08-15|\n",
      "|Belgium|                  BE|Weekly new hospit...|  11455519| 1.64985977501325|          2020-W32|     2020-08-02|   2020-08-08|\n",
      "|Belgium|                  BE|Weekly new hospit...|  11455519|   1.466542022234|          2020-W31|     2020-07-26|   2020-08-01|\n",
      "|Belgium|                  BE|Weekly new hospit...|  11455519| 1.08244768307748|          2020-W30|     2020-07-19|   2020-07-25|\n",
      "|Belgium|                  BE|Weekly new hospit...|  11455519|0.820565179107119|          2020-W29|     2020-07-12|   2020-07-18|\n",
      "|Belgium|                  BE|Weekly new hospit...|  11455519|0.567412091935774|          2020-W28|     2020-07-05|   2020-07-11|\n",
      "|Belgium|                  BE|Weekly new hospit...|  11455519| 0.68962392712194|          2020-W27|     2020-06-28|   2020-07-04|\n",
      "|Belgium|                  BE|Weekly new hospit...|  11455519|0.855482846303166|          2020-W26|     2020-06-21|   2020-06-27|\n",
      "|Belgium|                  BE|Weekly new hospit...|  11455519| 1.06498884947945|          2020-W25|     2020-06-14|   2020-06-20|\n",
      "|Belgium|                  BE|Weekly new hospit...|  11455519|  1.2483066022587|          2020-W24|     2020-06-07|   2020-06-13|\n",
      "+-------+--------------------+--------------------+----------+-----------------+------------------+---------------+-------------+\n",
      "only showing top 20 rows\n",
      "\n"
     ]
    }
   ],
   "source": [
    "fields = [\n",
    "    'country'\n",
    "    ,'country_code_2_digit'\n",
    "    ,'indicator'\n",
    "    # ,'reported_date'\n",
    "    ,'population'\n",
    "    ,'value'\n",
    "    ,'reported_year_week'\n",
    "    ,'start_week_date'\n",
    "    ,'end_week_date'\n",
    "]\n",
    "\n",
    "df_weekly_hospital_admissions.orderBy(\"country\", col('reported_year_week').desc()).select(fields).show()"
   ]
  },
  {
   "cell_type": "markdown",
   "id": "5745be13-e3f2-48b8-83d8-4ac84e3a5ab9",
   "metadata": {
    "jp-MarkdownHeadingCollapsed": true
   },
   "source": [
    "# *Pivot weekly hospital admission*"
   ]
  },
  {
   "cell_type": "code",
   "execution_count": 27,
   "id": "939cfc7e-6e05-4156-8746-14684c941632",
   "metadata": {},
   "outputs": [
    {
     "data": {
      "text/plain": [
       "[Row(reported_date=None)]"
      ]
     },
     "execution_count": 27,
     "metadata": {},
     "output_type": "execute_result"
    }
   ],
   "source": [
    "# IS REPORTED_DATE ALWAYS NULL?\n",
    "df_weekly_hospital_admissions.select('reported_date').distinct().collect()"
   ]
  },
  {
   "cell_type": "code",
   "execution_count": 101,
   "id": "c877a3e2-c0b4-4ed8-9390-cdd6b69a0e36",
   "metadata": {},
   "outputs": [
    {
     "data": {
      "text/plain": [
       "DataFrame[country: string, country_code_2_digit: string, country_code_3_digit: string, indicator: string, population: int, value: double, source: string, reported_year_week: string, start_week_date: date, end_week_date: date]"
      ]
     },
     "execution_count": 101,
     "metadata": {},
     "output_type": "execute_result"
    }
   ],
   "source": [
    "# WE CAN DROP IT\n",
    "df_weekly_hospital_admissions.drop('reported_date')"
   ]
  },
  {
   "cell_type": "code",
   "execution_count": 29,
   "id": "1bbadbf8-5c28-49e2-bb4e-23bcf342e0e8",
   "metadata": {},
   "outputs": [
    {
     "data": {
      "text/plain": [
       "[Row(indicator='Weekly new hospital admissions per 100k'),\n",
       " Row(indicator='Weekly new ICU admissions per 100k')]"
      ]
     },
     "execution_count": 29,
     "metadata": {},
     "output_type": "execute_result"
    }
   ],
   "source": [
    "df_weekly_hospital_admissions.select('indicator').distinct().collect()"
   ]
  },
  {
   "cell_type": "code",
   "execution_count": 103,
   "id": "64526152-09d4-4807-a8e9-d7195ed486fa",
   "metadata": {},
   "outputs": [],
   "source": [
    "# PIVOT OF INDICATOR\n",
    "\n",
    "group_by_fields = [\n",
    "    'country'\n",
    "    ,'country_code_2_digit'\n",
    "    ,'country_code_3_digit'\n",
    "    ,'population'\n",
    "    ,'source'\n",
    "    ,'reported_year_week' # ecdc_year_week\n",
    "    ,'start_week_date'\n",
    "    ,'end_week_date'\n",
    "]\n",
    "\n",
    "df_weekly_hospital_admissions = (\n",
    "    df_weekly_hospital_admissions\n",
    "    .groupBy(group_by_fields)\n",
    "    .pivot('indicator')\n",
    "    .agg({'value':'sum'})\n",
    "    .withColumnRenamed('Weekly new ICU admissions per 100k', 'weekly_icu_admission')\n",
    "    .withColumnRenamed('Weekly new hospital admissions per 100k', 'weekly_hospital_admission')\n",
    "    # .orderBy(\n",
    "    #     col(\"reported_year_week\").desc()\n",
    "    #     ,col(\"contry\").asc()\n",
    "    # )\n",
    "    .fillna(0)\n",
    ")"
   ]
  },
  {
   "cell_type": "markdown",
   "id": "55f9a602-cb69-4249-af09-55e7cf810461",
   "metadata": {
    "jp-MarkdownHeadingCollapsed": true
   },
   "source": [
    "# *Order by reported_year_week and country*"
   ]
  },
  {
   "cell_type": "code",
   "execution_count": 105,
   "id": "2a5f64e9-8030-4b8c-9956-0677eba796e4",
   "metadata": {},
   "outputs": [],
   "source": [
    "df_weekly_hospital_admissions = (\n",
    "    df_weekly_hospital_admissions\n",
    "    .orderBy(\n",
    "        col(\"country\").asc()\n",
    "        ,col(\"reported_year_week\").desc()        \n",
    "    )\n",
    ")"
   ]
  },
  {
   "cell_type": "code",
   "execution_count": 109,
   "id": "8fe8d9cc-ff52-442a-bd7b-670e5a8b57b3",
   "metadata": {},
   "outputs": [
    {
     "name": "stdout",
     "output_type": "stream",
     "text": [
      "+-------+--------------------+-------------------------+------------------+---------------+-------------+\n",
      "|country|weekly_icu_admission|weekly_hospital_admission|reported_year_week|start_week_date|end_week_date|\n",
      "+-------+--------------------+-------------------------+------------------+---------------+-------------+\n",
      "|Belgium|                 0.0|         28.3793340135877|          2020-W43|     2020-10-18|   2020-10-24|\n",
      "|Belgium|                 0.0|         15.4510677342511|          2020-W42|     2020-10-11|   2020-10-17|\n",
      "|Belgium|                 0.0|         7.68188678313047|          2020-W41|     2020-10-04|   2020-10-10|\n",
      "|Belgium|                 0.0|         4.72261448826544|          2020-W40|     2020-09-27|   2020-10-03|\n",
      "|Belgium|                 0.0|         3.91077872595733|          2020-W39|     2020-09-20|   2020-09-26|\n",
      "|Belgium|                 0.0|         2.76722512528677|          2020-W38|     2020-09-13|   2020-09-19|\n",
      "|Belgium|                 0.0|         1.85936577818954|          2020-W37|     2020-09-06|   2020-09-12|\n",
      "|Belgium|                 0.0|         1.03880059908242|          2020-W36|     2020-08-30|   2020-09-05|\n",
      "|Belgium|                 0.0|        0.899129930298226|          2020-W35|     2020-08-23|   2020-08-29|\n",
      "|Belgium|                 0.0|         1.48400085583202|          2020-W34|     2020-08-16|   2020-08-22|\n",
      "|Belgium|                 0.0|          2.1299776989589|          2020-W33|     2020-08-09|   2020-08-15|\n",
      "|Belgium|                 0.0|         1.64985977501325|          2020-W32|     2020-08-02|   2020-08-08|\n",
      "|Belgium|                 0.0|           1.466542022234|          2020-W31|     2020-07-26|   2020-08-01|\n",
      "|Belgium|                 0.0|         1.08244768307748|          2020-W30|     2020-07-19|   2020-07-25|\n",
      "|Belgium|                 0.0|        0.820565179107119|          2020-W29|     2020-07-12|   2020-07-18|\n",
      "|Belgium|                 0.0|        0.567412091935774|          2020-W28|     2020-07-05|   2020-07-11|\n",
      "|Belgium|                 0.0|         0.68962392712194|          2020-W27|     2020-06-28|   2020-07-04|\n",
      "|Belgium|                 0.0|        0.855482846303166|          2020-W26|     2020-06-21|   2020-06-27|\n",
      "|Belgium|                 0.0|         1.06498884947945|          2020-W25|     2020-06-14|   2020-06-20|\n",
      "|Belgium|                 0.0|          1.2483066022587|          2020-W24|     2020-06-07|   2020-06-13|\n",
      "+-------+--------------------+-------------------------+------------------+---------------+-------------+\n",
      "only showing top 20 rows\n",
      "\n"
     ]
    }
   ],
   "source": [
    "fields = [\n",
    "    'country'\n",
    "    ,'weekly_icu_admission'\n",
    "    ,'weekly_hospital_admission'\n",
    "    ,'reported_year_week'\n",
    "    ,'start_week_date'\n",
    "    ,'end_week_date'\n",
    "]\n",
    "\n",
    "df_weekly_hospital_admissions.select(fields).show()"
   ]
  },
  {
   "cell_type": "markdown",
   "id": "81f6b553-3ac4-4989-98af-9ae07020e5f4",
   "metadata": {
    "jp-MarkdownHeadingCollapsed": true
   },
   "source": [
    "# *Rename weekly columns and sink on sql server*"
   ]
  },
  {
   "cell_type": "code",
   "execution_count": 121,
   "id": "5f0416a3-4e5c-4628-be06-389757b5f299",
   "metadata": {},
   "outputs": [
    {
     "data": {
      "text/plain": [
       "['country',\n",
       " 'country_code_2_digit',\n",
       " 'country_code_3_digit',\n",
       " 'population',\n",
       " 'source',\n",
       " 'reported_year_week',\n",
       " 'start_week_date',\n",
       " 'end_week_date',\n",
       " 'weekly_icu_admission',\n",
       " 'weekly_hospital_admission']"
      ]
     },
     "execution_count": 121,
     "metadata": {},
     "output_type": "execute_result"
    }
   ],
   "source": [
    "df_weekly_hospital_admissions.columns"
   ]
  },
  {
   "cell_type": "code",
   "execution_count": 122,
   "id": "be7a6574-2efe-4d6e-a3b1-adcc0be805b4",
   "metadata": {},
   "outputs": [],
   "source": [
    "df_weekly_hospital_admissions = (\n",
    "    df_weekly_hospital_admissions\n",
    "    .withColumnRenamed('weekly_icu_admission', 'new_icu_occupancy_count')\n",
    "    .withColumnRenamed('weekly_hospital_admission', 'new_hospital_occupancy_count')\n",
    ")"
   ]
  },
  {
   "cell_type": "code",
   "execution_count": 125,
   "id": "b6ea109a-da0d-4f9c-b9b0-db33ad1393e4",
   "metadata": {},
   "outputs": [
    {
     "data": {
      "text/plain": [
       "['country',\n",
       " 'country_code_2_digit',\n",
       " 'country_code_3_digit',\n",
       " 'population',\n",
       " 'source',\n",
       " 'reported_year_week',\n",
       " 'start_week_date',\n",
       " 'end_week_date',\n",
       " 'new_icu_occupancy_count',\n",
       " 'new_hospital_occupancy_count']"
      ]
     },
     "execution_count": 125,
     "metadata": {},
     "output_type": "execute_result"
    }
   ],
   "source": [
    "df_weekly_hospital_admissions.columns"
   ]
  },
  {
   "cell_type": "code",
   "execution_count": 135,
   "id": "4907cf52-7522-4538-be3e-3cb2ba5772d9",
   "metadata": {},
   "outputs": [],
   "source": [
    "(\n",
    "    df_weekly_hospital_admissions\n",
    "    .write\n",
    "    .mode(\"overwrite\")\n",
    "    .format(\"jdbc\")\n",
    "    .options(\n",
    "        driver=driver\n",
    "        ,user=usr\n",
    "        ,password=pwd\n",
    "        ,url=jdbcURI\n",
    "        ,dbtable=\"dbo.WeeklyHospitalAdmissions\"\n",
    "    )\n",
    "    .save()\n",
    ")"
   ]
  },
  {
   "cell_type": "markdown",
   "id": "f9116281-1969-4d3b-b901-a3fdf6eabd66",
   "metadata": {
    "jp-MarkdownHeadingCollapsed": true
   },
   "source": [
    "# *Pivot daily hospital admission*"
   ]
  },
  {
   "cell_type": "code",
   "execution_count": 27,
   "id": "4ec794bc-be74-4e60-9c42-f15f658be703",
   "metadata": {},
   "outputs": [
    {
     "data": {
      "text/plain": [
       "['country',\n",
       " 'country_code_2_digit',\n",
       " 'country_code_3_digit',\n",
       " 'indicator',\n",
       " 'reported_date',\n",
       " 'reported_year_week',\n",
       " 'population',\n",
       " 'value',\n",
       " 'source']"
      ]
     },
     "execution_count": 27,
     "metadata": {},
     "output_type": "execute_result"
    }
   ],
   "source": [
    "df_daily_hospital_admissions.columns"
   ]
  },
  {
   "cell_type": "code",
   "execution_count": 28,
   "id": "bad3fb01-2343-46f8-b37e-d255414578db",
   "metadata": {},
   "outputs": [
    {
     "data": {
      "text/plain": [
       "[Row(indicator='Daily hospital occupancy'),\n",
       " Row(indicator='Daily ICU occupancy')]"
      ]
     },
     "execution_count": 28,
     "metadata": {},
     "output_type": "execute_result"
    }
   ],
   "source": [
    "df_daily_hospital_admissions.select(\"indicator\").distinct().collect()"
   ]
  },
  {
   "cell_type": "code",
   "execution_count": 110,
   "id": "721444d1-b5bc-48a6-ab5b-9079e03e21e7",
   "metadata": {},
   "outputs": [],
   "source": [
    "group_by_fields = [\n",
    "    'country',\n",
    "     'country_code_2_digit',\n",
    "     'country_code_3_digit',\n",
    "     # 'indicator',\n",
    "     'reported_date',\n",
    "     'population',\n",
    "     # 'value',\n",
    "    'source'\n",
    "]\n",
    "\n",
    "df_daily_hospital_admissions = (\n",
    "    df_daily_hospital_admissions\n",
    "    .groupby(group_by_fields)\n",
    "    .pivot(\"indicator\")\n",
    "    .agg({\"value\": \"sum\"}) # at this point the indicator's values are cols\n",
    "    .withColumnRenamed(\"Daily hospital occupancy\", \"daily_hospital_occupancy\")\n",
    "    .withColumnRenamed(\"Daily ICU occupancy\", \"daily_icu_occupancy\")\n",
    "    .fillna(0)\n",
    ")"
   ]
  },
  {
   "cell_type": "code",
   "execution_count": 111,
   "id": "1f4ee641-809f-4e18-890f-841950089a31",
   "metadata": {},
   "outputs": [
    {
     "name": "stdout",
     "output_type": "stream",
     "text": [
      "+-------+----------+------------------------+-------------------+-------------+\n",
      "|country|population|daily_hospital_occupancy|daily_icu_occupancy|reported_date|\n",
      "+-------+----------+------------------------+-------------------+-------------+\n",
      "|Austria|   8858775|                  1057.0|                0.0|   2020-04-02|\n",
      "|Austria|   8858775|                  1096.0|                0.0|   2020-04-08|\n",
      "|Austria|   8858775|                  1001.0|                0.0|   2020-04-15|\n",
      "|Austria|   8858775|                   967.0|                0.0|   2020-04-16|\n",
      "|Austria|   8858775|                   909.0|                0.0|   2020-04-17|\n",
      "|Austria|   8858775|                   817.0|                0.0|   2020-04-19|\n",
      "|Austria|   8858775|                   756.0|              196.0|   2020-04-21|\n",
      "|Austria|   8858775|                   700.0|              176.0|   2020-04-22|\n",
      "|Austria|   8858775|                   677.0|              169.0|   2020-04-23|\n",
      "|Austria|   8858775|                   651.0|              156.0|   2020-04-24|\n",
      "|Austria|   8858775|                   579.0|              140.0|   2020-04-27|\n",
      "|Austria|   8858775|                   561.0|              136.0|   2020-04-28|\n",
      "|Austria|   8858775|                   517.0|              131.0|   2020-04-29|\n",
      "|Austria|   8858775|                   500.0|              128.0|   2020-04-30|\n",
      "|Austria|   8858775|                   428.0|              114.0|   2020-05-02|\n",
      "|Austria|   8858775|                   422.0|              114.0|   2020-05-03|\n",
      "|Austria|   8858775|                   420.0|              111.0|   2020-05-04|\n",
      "|Austria|   8858775|                   418.0|              104.0|   2020-05-05|\n",
      "|Austria|   8858775|                   418.0|               97.0|   2020-05-06|\n",
      "|Austria|   8858775|                   360.0|               92.0|   2020-05-07|\n",
      "+-------+----------+------------------------+-------------------+-------------+\n",
      "only showing top 20 rows\n",
      "\n"
     ]
    }
   ],
   "source": [
    "fields = [\n",
    "    \"country\"\n",
    "    ,\"population\"\n",
    "    ,\"daily_hospital_occupancy\"\n",
    "    ,\"daily_icu_occupancy\"\n",
    "    ,\"reported_date\"\n",
    "]\n",
    "\n",
    "df_daily_hospital_admissions.select(fields).orderBy(\"country\", col(\"reported_date\").asc()).show()"
   ]
  },
  {
   "cell_type": "markdown",
   "id": "623497ce-c090-45a4-8d24-8b96154e7a88",
   "metadata": {
    "jp-MarkdownHeadingCollapsed": true
   },
   "source": [
    "# *Order by reported_date and country*"
   ]
  },
  {
   "cell_type": "code",
   "execution_count": 117,
   "id": "fe95779b-ff58-4a72-ae9a-d22868e5149e",
   "metadata": {},
   "outputs": [],
   "source": [
    "df_daily_hospital_admissions = (\n",
    "    df_daily_hospital_admissions\n",
    "    .orderBy(\n",
    "        col(\"country\").asc()\n",
    "        ,col(\"reported_date\").asc()\n",
    "    )\n",
    ")"
   ]
  },
  {
   "cell_type": "code",
   "execution_count": 118,
   "id": "3b9afc62-52ab-4ac7-b0af-5a7259d0088d",
   "metadata": {},
   "outputs": [
    {
     "name": "stdout",
     "output_type": "stream",
     "text": [
      "+-------+--------------------+--------------------+-------------+----------+---------------+-------------------+------------------------+\n",
      "|country|country_code_2_digit|country_code_3_digit|reported_date|population|         source|daily_icu_occupancy|daily_hospital_occupancy|\n",
      "+-------+--------------------+--------------------+-------------+----------+---------------+-------------------+------------------------+\n",
      "|Austria|                  AT|                 AUT|   2020-04-02|   8858775|   Surveillance|                0.0|                  1057.0|\n",
      "|Austria|                  AT|                 AUT|   2020-04-08|   8858775|   Surveillance|                0.0|                  1096.0|\n",
      "|Austria|                  AT|                 AUT|   2020-04-15|   8858775|   Surveillance|                0.0|                  1001.0|\n",
      "|Austria|                  AT|                 AUT|   2020-04-16|   8858775|   Surveillance|                0.0|                   967.0|\n",
      "|Austria|                  AT|                 AUT|   2020-04-17|   8858775|   Surveillance|                0.0|                   909.0|\n",
      "|Austria|                  AT|                 AUT|   2020-04-19|   8858775|   Surveillance|                0.0|                   817.0|\n",
      "|Austria|                  AT|                 AUT|   2020-04-21|   8858775|   Surveillance|              196.0|                   756.0|\n",
      "|Austria|                  AT|                 AUT|   2020-04-22|   8858775|   Surveillance|              176.0|                   700.0|\n",
      "|Austria|                  AT|                 AUT|   2020-04-23|   8858775|   Surveillance|              169.0|                   677.0|\n",
      "|Austria|                  AT|                 AUT|   2020-04-24|   8858775|   Surveillance|              156.0|                   651.0|\n",
      "|Austria|                  AT|                 AUT|   2020-04-27|   8858775|   Surveillance|              140.0|                   579.0|\n",
      "|Austria|                  AT|                 AUT|   2020-04-28|   8858775|   Surveillance|              136.0|                   561.0|\n",
      "|Austria|                  AT|                 AUT|   2020-04-29|   8858775|   Surveillance|              131.0|                   517.0|\n",
      "|Austria|                  AT|                 AUT|   2020-04-30|   8858775|Country_Website|              128.0|                   500.0|\n",
      "|Austria|                  AT|                 AUT|   2020-05-02|   8858775|Country_Website|              114.0|                   428.0|\n",
      "|Austria|                  AT|                 AUT|   2020-05-03|   8858775|Country_Website|              114.0|                   422.0|\n",
      "|Austria|                  AT|                 AUT|   2020-05-04|   8858775|Country_Website|              111.0|                   420.0|\n",
      "|Austria|                  AT|                 AUT|   2020-05-05|   8858775|Country_Website|              104.0|                   418.0|\n",
      "|Austria|                  AT|                 AUT|   2020-05-06|   8858775|Country_Website|               97.0|                   418.0|\n",
      "|Austria|                  AT|                 AUT|   2020-05-07|   8858775|Country_Website|               92.0|                   360.0|\n",
      "+-------+--------------------+--------------------+-------------+----------+---------------+-------------------+------------------------+\n",
      "only showing top 20 rows\n",
      "\n"
     ]
    }
   ],
   "source": [
    "df_daily_hospital_admissions.show()"
   ]
  },
  {
   "cell_type": "markdown",
   "id": "c6796470-6871-44ab-9747-e46550379439",
   "metadata": {
    "jp-MarkdownHeadingCollapsed": true
   },
   "source": [
    "# *Rename daily columns and sink to sql server*"
   ]
  },
  {
   "cell_type": "code",
   "execution_count": 126,
   "id": "15ff6a9a-bf1c-4a60-a8ba-2f6a87b78096",
   "metadata": {},
   "outputs": [
    {
     "data": {
      "text/plain": [
       "['country',\n",
       " 'country_code_2_digit',\n",
       " 'country_code_3_digit',\n",
       " 'reported_date',\n",
       " 'population',\n",
       " 'source',\n",
       " 'daily_icu_occupancy',\n",
       " 'daily_hospital_occupancy']"
      ]
     },
     "execution_count": 126,
     "metadata": {},
     "output_type": "execute_result"
    }
   ],
   "source": [
    "df_daily_hospital_admissions.columns"
   ]
  },
  {
   "cell_type": "code",
   "execution_count": 127,
   "id": "278b230c-2bc5-4291-ba9f-4f60af236e17",
   "metadata": {},
   "outputs": [],
   "source": [
    "df_daily_hospital_admissions = (\n",
    "    df_daily_hospital_admissions\n",
    "    .withColumnRenamed('daily_icu_occupancy', 'icu_occupancy_count')\n",
    "    .withColumnRenamed('daily_icu_occupancy', 'hospital_occupancy_count')\n",
    ")"
   ]
  },
  {
   "cell_type": "code",
   "execution_count": 128,
   "id": "4e0b3cff-7dcd-4d3d-a242-487957a681f6",
   "metadata": {},
   "outputs": [
    {
     "data": {
      "text/plain": [
       "['country',\n",
       " 'country_code_2_digit',\n",
       " 'country_code_3_digit',\n",
       " 'reported_date',\n",
       " 'population',\n",
       " 'source',\n",
       " 'icu_occupancy_count',\n",
       " 'daily_hospital_occupancy']"
      ]
     },
     "execution_count": 128,
     "metadata": {},
     "output_type": "execute_result"
    }
   ],
   "source": [
    "df_daily_hospital_admissions.columns"
   ]
  },
  {
   "cell_type": "code",
   "execution_count": 137,
   "id": "8dfd8525-2909-4786-9d2b-2519d41efc20",
   "metadata": {},
   "outputs": [],
   "source": [
    "(\n",
    "    df_daily_hospital_admissions\n",
    "    .write\n",
    "    .mode('overwrite')\n",
    "    .format('jdbc')\n",
    "    .options(\n",
    "        driver=driver\n",
    "        ,user=usr\n",
    "        ,password=pwd\n",
    "        ,url=jdbcURI\n",
    "        ,dbtable=\"dbo.DailyHospitalAdmissions\"\n",
    "    )\n",
    "    .save()\n",
    ")"
   ]
  }
 ],
 "metadata": {
  "kernelspec": {
   "display_name": "Python 3 (ipykernel)",
   "language": "python",
   "name": "python3"
  },
  "language_info": {
   "codemirror_mode": {
    "name": "ipython",
    "version": 3
   },
   "file_extension": ".py",
   "mimetype": "text/x-python",
   "name": "python",
   "nbconvert_exporter": "python",
   "pygments_lexer": "ipython3",
   "version": "3.11.5"
  }
 },
 "nbformat": 4,
 "nbformat_minor": 5
}
