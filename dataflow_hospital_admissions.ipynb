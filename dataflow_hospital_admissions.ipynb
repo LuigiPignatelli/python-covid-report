{
 "cells": [
  {
   "cell_type": "code",
   "execution_count": 1,
   "id": "658500d6-3ee3-44f6-90d7-6dd6584cd8e3",
   "metadata": {},
   "outputs": [],
   "source": [
    "%run utilities.ipynb"
   ]
  },
  {
   "cell_type": "code",
   "execution_count": 2,
   "id": "596dad8d-efa1-47bf-8f49-6fba6343f534",
   "metadata": {},
   "outputs": [],
   "source": [
    "df_hospital_admissions = spark.read.csv(\"Datasets/hospital_admissions.csv\", header=True, inferSchema=True)\n",
    "df_country_lookup = spark.read.csv(\"Datasets/country_lookup.csv\", header=True, inferSchema=True)"
   ]
  },
  {
   "cell_type": "code",
   "execution_count": null,
   "id": "47739e15-adfc-4c63-a8c2-eaea97bc94a5",
   "metadata": {},
   "outputs": [],
   "source": []
  },
  {
   "cell_type": "code",
   "execution_count": 51,
   "id": "da0c492a-0c12-4afb-8973-13974e2b7dc7",
   "metadata": {},
   "outputs": [
    {
     "name": "stdout",
     "output_type": "stream",
     "text": [
      "+-------+--------------------+----------+---------+------+---------------+--------------------+\n",
      "|country|           indicator|      date|year_week| value|         source|                 url|\n",
      "+-------+--------------------+----------+---------+------+---------------+--------------------+\n",
      "|Austria|Daily hospital oc...|2020-04-02| 2020-W14|1057.0|   Surveillance|https://www.sozia...|\n",
      "|Austria|Daily hospital oc...|2020-04-08| 2020-W15|1096.0|   Surveillance|https://www.sozia...|\n",
      "|Austria|Daily hospital oc...|2020-04-15| 2020-W16|1001.0|   Surveillance|https://info.gesu...|\n",
      "|Austria|Daily hospital oc...|2020-04-16| 2020-W16| 967.0|   Surveillance|https://www.sozia...|\n",
      "|Austria|Daily hospital oc...|2020-04-17| 2020-W16| 909.0|   Surveillance|https://www.sozia...|\n",
      "|Austria|Daily hospital oc...|2020-04-19| 2020-W16| 817.0|   Surveillance|https://www.sozia...|\n",
      "|Austria|Daily hospital oc...|2020-04-21| 2020-W17| 756.0|   Surveillance|https://www.sozia...|\n",
      "|Austria|Daily hospital oc...|2020-04-22| 2020-W17| 700.0|   Surveillance|https://www.sozia...|\n",
      "|Austria|Daily hospital oc...|2020-04-23| 2020-W17| 677.0|   Surveillance|https://www.sozia...|\n",
      "|Austria|Daily hospital oc...|2020-04-24| 2020-W17| 651.0|   Surveillance|https://www.sozia...|\n",
      "|Austria|Daily hospital oc...|2020-04-27| 2020-W18| 579.0|   Surveillance|https://www.sozia...|\n",
      "|Austria|Daily hospital oc...|2020-04-28| 2020-W18| 561.0|   Surveillance|https://info.gesu...|\n",
      "|Austria|Daily hospital oc...|2020-04-29| 2020-W18| 517.0|   Surveillance|https://www.sozia...|\n",
      "|Austria|Daily hospital oc...|2020-04-30| 2020-W18| 500.0|Country_Website|                NULL|\n",
      "|Austria|Daily hospital oc...|2020-05-02| 2020-W18| 428.0|Country_Website|                NULL|\n",
      "|Austria|Daily hospital oc...|2020-05-03| 2020-W18| 422.0|Country_Website|                NULL|\n",
      "|Austria|Daily hospital oc...|2020-05-04| 2020-W19| 420.0|Country_Website|                NULL|\n",
      "|Austria|Daily hospital oc...|2020-05-05| 2020-W19| 418.0|Country_Website|                NULL|\n",
      "|Austria|Daily hospital oc...|2020-05-06| 2020-W19| 418.0|Country_Website|                NULL|\n",
      "|Austria|Daily hospital oc...|2020-05-07| 2020-W19| 360.0|Country_Website|                NULL|\n",
      "+-------+--------------------+----------+---------+------+---------------+--------------------+\n",
      "only showing top 20 rows\n",
      "\n"
     ]
    }
   ],
   "source": [
    "df_hospital_admissions.show()"
   ]
  },
  {
   "cell_type": "code",
   "execution_count": 52,
   "id": "b6446828-da21-41dc-ba2d-56a718dcf754",
   "metadata": {},
   "outputs": [
    {
     "data": {
      "text/plain": [
       "[('country', 'string'),\n",
       " ('indicator', 'string'),\n",
       " ('date', 'date'),\n",
       " ('year_week', 'string'),\n",
       " ('value', 'double'),\n",
       " ('source', 'string'),\n",
       " ('url', 'string')]"
      ]
     },
     "execution_count": 52,
     "metadata": {},
     "output_type": "execute_result"
    }
   ],
   "source": [
    "df_hospital_admissions.dtypes"
   ]
  },
  {
   "cell_type": "code",
   "execution_count": 3,
   "id": "1e65f4b8-ec91-4262-b029-f4c27afb5717",
   "metadata": {},
   "outputs": [],
   "source": [
    "df_hospital_admissions = df_hospital_admissions.drop('url')"
   ]
  },
  {
   "cell_type": "code",
   "execution_count": 54,
   "id": "9f0384af-2638-4054-9a3f-88ab4ff8379a",
   "metadata": {
    "scrolled": true
   },
   "outputs": [
    {
     "name": "stdout",
     "output_type": "stream",
     "text": [
      "+-------+--------------------+----------+---------+------+---------------+\n",
      "|country|           indicator|      date|year_week| value|         source|\n",
      "+-------+--------------------+----------+---------+------+---------------+\n",
      "|Austria|Daily hospital oc...|2020-04-02| 2020-W14|1057.0|   Surveillance|\n",
      "|Austria|Daily hospital oc...|2020-04-08| 2020-W15|1096.0|   Surveillance|\n",
      "|Austria|Daily hospital oc...|2020-04-15| 2020-W16|1001.0|   Surveillance|\n",
      "|Austria|Daily hospital oc...|2020-04-16| 2020-W16| 967.0|   Surveillance|\n",
      "|Austria|Daily hospital oc...|2020-04-17| 2020-W16| 909.0|   Surveillance|\n",
      "|Austria|Daily hospital oc...|2020-04-19| 2020-W16| 817.0|   Surveillance|\n",
      "|Austria|Daily hospital oc...|2020-04-21| 2020-W17| 756.0|   Surveillance|\n",
      "|Austria|Daily hospital oc...|2020-04-22| 2020-W17| 700.0|   Surveillance|\n",
      "|Austria|Daily hospital oc...|2020-04-23| 2020-W17| 677.0|   Surveillance|\n",
      "|Austria|Daily hospital oc...|2020-04-24| 2020-W17| 651.0|   Surveillance|\n",
      "|Austria|Daily hospital oc...|2020-04-27| 2020-W18| 579.0|   Surveillance|\n",
      "|Austria|Daily hospital oc...|2020-04-28| 2020-W18| 561.0|   Surveillance|\n",
      "|Austria|Daily hospital oc...|2020-04-29| 2020-W18| 517.0|   Surveillance|\n",
      "|Austria|Daily hospital oc...|2020-04-30| 2020-W18| 500.0|Country_Website|\n",
      "|Austria|Daily hospital oc...|2020-05-02| 2020-W18| 428.0|Country_Website|\n",
      "|Austria|Daily hospital oc...|2020-05-03| 2020-W18| 422.0|Country_Website|\n",
      "|Austria|Daily hospital oc...|2020-05-04| 2020-W19| 420.0|Country_Website|\n",
      "|Austria|Daily hospital oc...|2020-05-05| 2020-W19| 418.0|Country_Website|\n",
      "|Austria|Daily hospital oc...|2020-05-06| 2020-W19| 418.0|Country_Website|\n",
      "|Austria|Daily hospital oc...|2020-05-07| 2020-W19| 360.0|Country_Website|\n",
      "+-------+--------------------+----------+---------+------+---------------+\n",
      "only showing top 20 rows\n",
      "\n"
     ]
    }
   ],
   "source": [
    "df_hospital_admissions.show()"
   ]
  },
  {
   "cell_type": "code",
   "execution_count": null,
   "id": "a9ad8be8-05c4-47ce-945e-c64f5289aed5",
   "metadata": {},
   "outputs": [],
   "source": []
  },
  {
   "cell_type": "code",
   "execution_count": 55,
   "id": "226d6478-c773-4ad7-a347-e671f3aafae2",
   "metadata": {
    "scrolled": true
   },
   "outputs": [
    {
     "name": "stdout",
     "output_type": "stream",
     "text": [
      "+--------------------+--------------------+--------------------+---------+----------+\n",
      "|             country|country_code_2_digit|country_code_3_digit|continent|population|\n",
      "+--------------------+--------------------+--------------------+---------+----------+\n",
      "|               Aruba|                  AW|                 ABW|  America|    106766|\n",
      "|         Afghanistan|                  AF|                 AFG|     Asia|  38928341|\n",
      "|              Angola|                  AO|                 AGO|   Africa|  32866268|\n",
      "|            Anguilla|                  AI|                 AIA|  America|     15002|\n",
      "|             Albania|                  AL|                 ALB|   Europe|   2862427|\n",
      "|             Andorra|                  AD|                 AND|   Europe|     76177|\n",
      "|United Arab Emirates|                  AE|                 ARE|     Asia|   9890400|\n",
      "|           Argentina|                  AR|                 ARG|  America|  45195777|\n",
      "|             Armenia|                  AM|                 ARM|   Europe|   2963234|\n",
      "| Antigua and Barbuda|                  AG|                 ATG|  America|     97928|\n",
      "|           Australia|                  AU|                 AUS|  Oceania|  25499881|\n",
      "|             Austria|                  AT|                 AUT|   Europe|   8858775|\n",
      "|          Azerbaijan|                  AZ|                 AZE|   Europe|  10139175|\n",
      "|             Burundi|                  BI|                 BDI|   Africa|  11890781|\n",
      "|             Belgium|                  BE|                 BEL|   Europe|  11455519|\n",
      "|               Benin|                  BJ|                 BEN|   Africa|  12123198|\n",
      "|Bonaire, Saint Eu...|                  BQ|                 BES|  America|     26221|\n",
      "|        Burkina Faso|                  BF|                 BFA|   Africa|  20903278|\n",
      "|          Bangladesh|                  BD|                 BGD|     Asia| 164689383|\n",
      "|            Bulgaria|                  BG|                 BGR|   Europe|   7000039|\n",
      "+--------------------+--------------------+--------------------+---------+----------+\n",
      "only showing top 20 rows\n",
      "\n"
     ]
    }
   ],
   "source": [
    "df_country_lookup.show()"
   ]
  },
  {
   "cell_type": "code",
   "execution_count": 56,
   "id": "011c3265-5366-41a6-8b8d-1c6e69908882",
   "metadata": {},
   "outputs": [
    {
     "data": {
      "text/plain": [
       "[('country', 'string'),\n",
       " ('country_code_2_digit', 'string'),\n",
       " ('country_code_3_digit', 'string'),\n",
       " ('continent', 'string'),\n",
       " ('population', 'int')]"
      ]
     },
     "execution_count": 56,
     "metadata": {},
     "output_type": "execute_result"
    }
   ],
   "source": [
    "df_country_lookup.dtypes"
   ]
  },
  {
   "cell_type": "code",
   "execution_count": 4,
   "id": "55a8c29a-9301-4686-8dbe-fe52623dec8f",
   "metadata": {},
   "outputs": [],
   "source": [
    "condition = [df_hospital_admissions.country == df_country_lookup.country]\n",
    "\n",
    "fields = [\n",
    "    df_hospital_admissions['country']\n",
    "    ,'country_code_2_digit'\n",
    "    ,'country_code_3_digit'\n",
    "    ,'indicator'\n",
    "    ,'reported_date'\n",
    "    ,'reported_year_week'\n",
    "    ,'population'\n",
    "    ,'value'\n",
    "    ,'source'\n",
    "]\n",
    "\n",
    "df_hospital_admissions = (\n",
    "    df_hospital_admissions\n",
    "    .join(df_country_lookup, on=condition, how='left')\n",
    "    .withColumnRenamed('date', 'reported_date')\n",
    "    .withColumnRenamed('year_week', 'reported_year_week')\n",
    "    .select(fields)\n",
    ")"
   ]
  },
  {
   "cell_type": "code",
   "execution_count": 58,
   "id": "ec39bcb8-8116-4ab1-8751-cbf2096fb924",
   "metadata": {
    "scrolled": true
   },
   "outputs": [
    {
     "name": "stdout",
     "output_type": "stream",
     "text": [
      "+-------+--------------------+--------------------+--------------------+-------------+------------------+----------+------+---------------+\n",
      "|country|country_code_2_digit|country_code_3_digit|           indicator|reported_date|reported_year_week|population| value|         source|\n",
      "+-------+--------------------+--------------------+--------------------+-------------+------------------+----------+------+---------------+\n",
      "|Austria|                  AT|                 AUT|Daily hospital oc...|   2020-04-02|          2020-W14|   8858775|1057.0|   Surveillance|\n",
      "|Austria|                  AT|                 AUT|Daily hospital oc...|   2020-04-08|          2020-W15|   8858775|1096.0|   Surveillance|\n",
      "|Austria|                  AT|                 AUT|Daily hospital oc...|   2020-04-15|          2020-W16|   8858775|1001.0|   Surveillance|\n",
      "|Austria|                  AT|                 AUT|Daily hospital oc...|   2020-04-16|          2020-W16|   8858775| 967.0|   Surveillance|\n",
      "|Austria|                  AT|                 AUT|Daily hospital oc...|   2020-04-17|          2020-W16|   8858775| 909.0|   Surveillance|\n",
      "|Austria|                  AT|                 AUT|Daily hospital oc...|   2020-04-19|          2020-W16|   8858775| 817.0|   Surveillance|\n",
      "|Austria|                  AT|                 AUT|Daily hospital oc...|   2020-04-21|          2020-W17|   8858775| 756.0|   Surveillance|\n",
      "|Austria|                  AT|                 AUT|Daily hospital oc...|   2020-04-22|          2020-W17|   8858775| 700.0|   Surveillance|\n",
      "|Austria|                  AT|                 AUT|Daily hospital oc...|   2020-04-23|          2020-W17|   8858775| 677.0|   Surveillance|\n",
      "|Austria|                  AT|                 AUT|Daily hospital oc...|   2020-04-24|          2020-W17|   8858775| 651.0|   Surveillance|\n",
      "|Austria|                  AT|                 AUT|Daily hospital oc...|   2020-04-27|          2020-W18|   8858775| 579.0|   Surveillance|\n",
      "|Austria|                  AT|                 AUT|Daily hospital oc...|   2020-04-28|          2020-W18|   8858775| 561.0|   Surveillance|\n",
      "|Austria|                  AT|                 AUT|Daily hospital oc...|   2020-04-29|          2020-W18|   8858775| 517.0|   Surveillance|\n",
      "|Austria|                  AT|                 AUT|Daily hospital oc...|   2020-04-30|          2020-W18|   8858775| 500.0|Country_Website|\n",
      "|Austria|                  AT|                 AUT|Daily hospital oc...|   2020-05-02|          2020-W18|   8858775| 428.0|Country_Website|\n",
      "|Austria|                  AT|                 AUT|Daily hospital oc...|   2020-05-03|          2020-W18|   8858775| 422.0|Country_Website|\n",
      "|Austria|                  AT|                 AUT|Daily hospital oc...|   2020-05-04|          2020-W19|   8858775| 420.0|Country_Website|\n",
      "|Austria|                  AT|                 AUT|Daily hospital oc...|   2020-05-05|          2020-W19|   8858775| 418.0|Country_Website|\n",
      "|Austria|                  AT|                 AUT|Daily hospital oc...|   2020-05-06|          2020-W19|   8858775| 418.0|Country_Website|\n",
      "|Austria|                  AT|                 AUT|Daily hospital oc...|   2020-05-07|          2020-W19|   8858775| 360.0|Country_Website|\n",
      "+-------+--------------------+--------------------+--------------------+-------------+------------------+----------+------+---------------+\n",
      "only showing top 20 rows\n",
      "\n"
     ]
    }
   ],
   "source": [
    "df_hospital_admissions.show()"
   ]
  },
  {
   "cell_type": "code",
   "execution_count": 59,
   "id": "ec62dff5-28b0-48de-97b3-4bdfcca8c75b",
   "metadata": {},
   "outputs": [
    {
     "data": {
      "text/plain": [
       "8977"
      ]
     },
     "execution_count": 59,
     "metadata": {},
     "output_type": "execute_result"
    }
   ],
   "source": [
    "df_hospital_admissions.count()"
   ]
  },
  {
   "cell_type": "code",
   "execution_count": 60,
   "id": "ecb833ca-7b23-4819-9961-776ba3a84856",
   "metadata": {},
   "outputs": [
    {
     "data": {
      "text/plain": [
       "[Row(indicator='Daily hospital occupancy'),\n",
       " Row(indicator='Daily ICU occupancy'),\n",
       " Row(indicator='Weekly new hospital admissions per 100k'),\n",
       " Row(indicator='Weekly new ICU admissions per 100k')]"
      ]
     },
     "execution_count": 60,
     "metadata": {},
     "output_type": "execute_result"
    }
   ],
   "source": [
    "df_hospital_admissions.select('indicator').distinct().collect()"
   ]
  },
  {
   "cell_type": "code",
   "execution_count": 5,
   "id": "b9a82dd6-e79a-4069-9f81-f6d31d1f4323",
   "metadata": {},
   "outputs": [],
   "source": [
    "# DERIVED DATASETS\n",
    "\n",
    "df_daily_hospital_admissions = (\n",
    "    df_hospital_admissions\n",
    "    .where((col('indicator') == 'Daily hospital occupancy') | (col('indicator') == 'Daily ICU occupancy'))\n",
    ")\n",
    "\n",
    "df_weekly_hospital_admissions = (\n",
    "    df_hospital_admissions\n",
    "    .where((col('indicator') == 'Weekly new hospital admissions per 100k') | (col('indicator') == 'Weekly new ICU admissions per 100k'))\n",
    ")"
   ]
  },
  {
   "cell_type": "code",
   "execution_count": 41,
   "id": "279b02ad-a99b-47f0-8e08-126957a0fa09",
   "metadata": {},
   "outputs": [
    {
     "name": "stdout",
     "output_type": "stream",
     "text": [
      "+-------+--------------------+--------------------+--------------------+-------------+------------------+----------+------+---------------+\n",
      "|country|country_code_2_digit|country_code_3_digit|           indicator|reported_date|reported_year_week|population| value|         source|\n",
      "+-------+--------------------+--------------------+--------------------+-------------+------------------+----------+------+---------------+\n",
      "|Austria|                  AT|                 AUT|Daily hospital oc...|   2020-04-02|          2020-W14|   8858775|1057.0|   Surveillance|\n",
      "|Austria|                  AT|                 AUT|Daily hospital oc...|   2020-04-08|          2020-W15|   8858775|1096.0|   Surveillance|\n",
      "|Austria|                  AT|                 AUT|Daily hospital oc...|   2020-04-15|          2020-W16|   8858775|1001.0|   Surveillance|\n",
      "|Austria|                  AT|                 AUT|Daily hospital oc...|   2020-04-16|          2020-W16|   8858775| 967.0|   Surveillance|\n",
      "|Austria|                  AT|                 AUT|Daily hospital oc...|   2020-04-17|          2020-W16|   8858775| 909.0|   Surveillance|\n",
      "|Austria|                  AT|                 AUT|Daily hospital oc...|   2020-04-19|          2020-W16|   8858775| 817.0|   Surveillance|\n",
      "|Austria|                  AT|                 AUT|Daily hospital oc...|   2020-04-21|          2020-W17|   8858775| 756.0|   Surveillance|\n",
      "|Austria|                  AT|                 AUT|Daily hospital oc...|   2020-04-22|          2020-W17|   8858775| 700.0|   Surveillance|\n",
      "|Austria|                  AT|                 AUT|Daily hospital oc...|   2020-04-23|          2020-W17|   8858775| 677.0|   Surveillance|\n",
      "|Austria|                  AT|                 AUT|Daily hospital oc...|   2020-04-24|          2020-W17|   8858775| 651.0|   Surveillance|\n",
      "|Austria|                  AT|                 AUT|Daily hospital oc...|   2020-04-27|          2020-W18|   8858775| 579.0|   Surveillance|\n",
      "|Austria|                  AT|                 AUT|Daily hospital oc...|   2020-04-28|          2020-W18|   8858775| 561.0|   Surveillance|\n",
      "|Austria|                  AT|                 AUT|Daily hospital oc...|   2020-04-29|          2020-W18|   8858775| 517.0|   Surveillance|\n",
      "|Austria|                  AT|                 AUT|Daily hospital oc...|   2020-04-30|          2020-W18|   8858775| 500.0|Country_Website|\n",
      "|Austria|                  AT|                 AUT|Daily hospital oc...|   2020-05-02|          2020-W18|   8858775| 428.0|Country_Website|\n",
      "|Austria|                  AT|                 AUT|Daily hospital oc...|   2020-05-03|          2020-W18|   8858775| 422.0|Country_Website|\n",
      "|Austria|                  AT|                 AUT|Daily hospital oc...|   2020-05-04|          2020-W19|   8858775| 420.0|Country_Website|\n",
      "|Austria|                  AT|                 AUT|Daily hospital oc...|   2020-05-05|          2020-W19|   8858775| 418.0|Country_Website|\n",
      "|Austria|                  AT|                 AUT|Daily hospital oc...|   2020-05-06|          2020-W19|   8858775| 418.0|Country_Website|\n",
      "|Austria|                  AT|                 AUT|Daily hospital oc...|   2020-05-07|          2020-W19|   8858775| 360.0|Country_Website|\n",
      "+-------+--------------------+--------------------+--------------------+-------------+------------------+----------+------+---------------+\n",
      "only showing top 20 rows\n",
      "\n"
     ]
    }
   ],
   "source": [
    "df_daily_hospital_admissions.show()"
   ]
  },
  {
   "cell_type": "code",
   "execution_count": 38,
   "id": "c57b8e86-debb-4f49-948b-3647fec9a19f",
   "metadata": {},
   "outputs": [
    {
     "data": {
      "text/plain": [
       "8110"
      ]
     },
     "execution_count": 38,
     "metadata": {},
     "output_type": "execute_result"
    }
   ],
   "source": [
    "df_daily_hospital_admissions.count()"
   ]
  },
  {
   "cell_type": "code",
   "execution_count": 42,
   "id": "09d7497b-a213-43c5-84b3-c649ac6552eb",
   "metadata": {},
   "outputs": [
    {
     "name": "stdout",
     "output_type": "stream",
     "text": [
      "+-------+--------------------+--------------------+--------------------+-------------+------------------+----------+----------------+--------------------+\n",
      "|country|country_code_2_digit|country_code_3_digit|           indicator|reported_date|reported_year_week|population|           value|              source|\n",
      "+-------+--------------------+--------------------+--------------------+-------------+------------------+----------+----------------+--------------------+\n",
      "|Belgium|                  BE|                 BEL|Weekly new hospit...|         NULL|          2020-W06|  11455519|            NULL|TESSy COVID-19, n...|\n",
      "|Belgium|                  BE|                 BEL|Weekly new hospit...|         NULL|          2020-W07|  11455519|            NULL|TESSy COVID-19, n...|\n",
      "|Belgium|                  BE|                 BEL|Weekly new hospit...|         NULL|          2020-W08|  11455519|            NULL|TESSy COVID-19, n...|\n",
      "|Belgium|                  BE|                 BEL|Weekly new hospit...|         NULL|          2020-W09|  11455519|            NULL|TESSy COVID-19, n...|\n",
      "|Belgium|                  BE|                 BEL|Weekly new hospit...|         NULL|          2020-W10|  11455519|            NULL|TESSy COVID-19, n...|\n",
      "|Belgium|                  BE|                 BEL|Weekly new hospit...|         NULL|          2020-W11|  11455519|13.3036312016941|TESSy COVID-19, n...|\n",
      "|Belgium|                  BE|                 BEL|Weekly new hospit...|         NULL|          2020-W12|  11455519|13.3036312016941|TESSy COVID-19, n...|\n",
      "|Belgium|                  BE|                 BEL|Weekly new hospit...|         NULL|          2020-W13|  11455519|30.4743940453505|TESSy COVID-19, n...|\n",
      "|Belgium|                  BE|                 BEL|Weekly new hospit...|         NULL|          2020-W14|  11455519|30.9370531356982|TESSy COVID-19, n...|\n",
      "|Belgium|                  BE|                 BEL|Weekly new hospit...|         NULL|          2020-W15|  11455519|24.5209317884244|TESSy COVID-19, n...|\n",
      "|Belgium|                  BE|                 BEL|Weekly new hospit...|         NULL|          2020-W16|  11455519|16.7779390877009|TESSy COVID-19, n...|\n",
      "|Belgium|                  BE|                 BEL|Weekly new hospit...|         NULL|          2020-W17|  11455519|12.2386423522147|TESSy COVID-19, n...|\n",
      "|Belgium|                  BE|                 BEL|Weekly new hospit...|         NULL|          2020-W18|  11455519| 7.7779103679196|TESSy COVID-19, n...|\n",
      "|Belgium|                  BE|                 BEL|Weekly new hospit...|         NULL|          2020-W19|  11455519|5.44715608258343|TESSy COVID-19, n...|\n",
      "|Belgium|                  BE|                 BEL|Weekly new hospit...|         NULL|          2020-W20|  11455519|3.74491980677611|TESSy COVID-19, n...|\n",
      "|Belgium|                  BE|                 BEL|Weekly new hospit...|         NULL|          2020-W21|  11455519|3.00291937886009|TESSy COVID-19, n...|\n",
      "|Belgium|                  BE|                 BEL|Weekly new hospit...|         NULL|          2020-W22|  11455519|2.13870711575792|TESSy COVID-19, n...|\n",
      "|Belgium|                  BE|                 BEL|Weekly new hospit...|         NULL|          2020-W23|  11455519|1.57129502382214|TESSy COVID-19, n...|\n",
      "|Belgium|                  BE|                 BEL|Weekly new hospit...|         NULL|          2020-W24|  11455519| 1.2483066022587|TESSy COVID-19, n...|\n",
      "|Belgium|                  BE|                 BEL|Weekly new hospit...|         NULL|          2020-W25|  11455519|1.06498884947945|TESSy COVID-19, n...|\n",
      "+-------+--------------------+--------------------+--------------------+-------------+------------------+----------+----------------+--------------------+\n",
      "only showing top 20 rows\n",
      "\n"
     ]
    }
   ],
   "source": [
    "df_weekly_hospital_admissions.show()"
   ]
  },
  {
   "cell_type": "code",
   "execution_count": 39,
   "id": "9553cad2-f374-496b-a971-51a2fc6d980c",
   "metadata": {},
   "outputs": [
    {
     "data": {
      "text/plain": [
       "867"
      ]
     },
     "execution_count": 39,
     "metadata": {},
     "output_type": "execute_result"
    }
   ],
   "source": [
    "df_weekly_hospital_admissions.count()"
   ]
  },
  {
   "cell_type": "code",
   "execution_count": null,
   "id": "af379126-c8a5-4bdf-ac2e-c0f42a0766c6",
   "metadata": {},
   "outputs": [],
   "source": []
  },
  {
   "cell_type": "code",
   "execution_count": 6,
   "id": "770bcb28-bf30-4f3f-9c9e-208fb747b0e5",
   "metadata": {},
   "outputs": [],
   "source": [
    "df_dim_date = spark.read.csv(\"Datasets/dim_date.csv\", header=True, inferSchema=True)"
   ]
  },
  {
   "cell_type": "code",
   "execution_count": 3,
   "id": "c82e34c0-71d7-4ed3-ad23-4bc575065adc",
   "metadata": {
    "scrolled": true
   },
   "outputs": [
    {
     "name": "stdout",
     "output_type": "stream",
     "text": [
      "+--------+----------+----+-----+---+---------+-----------+-------------+------------+----------+----------+---------+\n",
      "|date_key|      date|year|month|day| day_name|day_of_year|week_of_month|week_of_year|month_name|year_month|year_week|\n",
      "+--------+----------+----+-----+---+---------+-----------+-------------+------------+----------+----------+---------+\n",
      "|20200101|2020-01-01|2020|    1|  1|Wednesday|          1|            1|           1|   January|    202001|   202001|\n",
      "|20200102|2020-01-02|2020|    1|  2| Thursday|          2|            1|           1|   January|    202001|   202001|\n",
      "|20200103|2020-01-03|2020|    1|  3|   Friday|          3|            1|           1|   January|    202001|   202001|\n",
      "|20200104|2020-01-04|2020|    1|  4| Saturday|          4|            1|           1|   January|    202001|   202001|\n",
      "|20200105|2020-01-05|2020|    1|  5|   Sunday|          5|            2|           2|   January|    202001|   202002|\n",
      "|20200106|2020-01-06|2020|    1|  6|   Monday|          6|            2|           2|   January|    202001|   202002|\n",
      "|20200107|2020-01-07|2020|    1|  7|  Tuesday|          7|            2|           2|   January|    202001|   202002|\n",
      "|20200108|2020-01-08|2020|    1|  8|Wednesday|          8|            2|           2|   January|    202001|   202002|\n",
      "|20200109|2020-01-09|2020|    1|  9| Thursday|          9|            2|           2|   January|    202001|   202002|\n",
      "|20200110|2020-01-10|2020|    1| 10|   Friday|         10|            2|           2|   January|    202001|   202002|\n",
      "|20200111|2020-01-11|2020|    1| 11| Saturday|         11|            2|           2|   January|    202001|   202002|\n",
      "|20200112|2020-01-12|2020|    1| 12|   Sunday|         12|            3|           3|   January|    202001|   202003|\n",
      "|20200113|2020-01-13|2020|    1| 13|   Monday|         13|            3|           3|   January|    202001|   202003|\n",
      "|20200114|2020-01-14|2020|    1| 14|  Tuesday|         14|            3|           3|   January|    202001|   202003|\n",
      "|20200115|2020-01-15|2020|    1| 15|Wednesday|         15|            3|           3|   January|    202001|   202003|\n",
      "|20200116|2020-01-16|2020|    1| 16| Thursday|         16|            3|           3|   January|    202001|   202003|\n",
      "|20200117|2020-01-17|2020|    1| 17|   Friday|         17|            3|           3|   January|    202001|   202003|\n",
      "|20200118|2020-01-18|2020|    1| 18| Saturday|         18|            3|           3|   January|    202001|   202003|\n",
      "|20200119|2020-01-19|2020|    1| 19|   Sunday|         19|            4|           4|   January|    202001|   202004|\n",
      "|20200120|2020-01-20|2020|    1| 20|   Monday|         20|            4|           4|   January|    202001|   202004|\n",
      "+--------+----------+----+-----+---+---------+-----------+-------------+------------+----------+----------+---------+\n",
      "only showing top 20 rows\n",
      "\n"
     ]
    }
   ],
   "source": [
    "df_dim_date.show()"
   ]
  },
  {
   "cell_type": "code",
   "execution_count": 7,
   "id": "02e5cd5a-831c-4e0b-9944-cfc54cd31430",
   "metadata": {},
   "outputs": [],
   "source": [
    "fields = [\n",
    "    'ecdc_year_week'\n",
    "    ,'start_week_date'\n",
    "    ,'end_week_date'\n",
    "]\n",
    "\n",
    "aggregated_dim_date = (\n",
    "    df_dim_date\n",
    "    .withColumn('ecdc_year_week', concat('year',lit('-W'), lpad('week_of_year', 2, '0')))\n",
    "    .groupBy('ecdc_year_week')\n",
    "    .agg(\n",
    "        min('date').alias('start_week_date')\n",
    "        ,max('date').alias('end_week_date')\n",
    "    )\n",
    "    .select(fields)\n",
    ")"
   ]
  },
  {
   "cell_type": "code",
   "execution_count": 24,
   "id": "767c0dba-6385-4dc2-a3e1-3521cdb70787",
   "metadata": {
    "scrolled": true
   },
   "outputs": [
    {
     "name": "stdout",
     "output_type": "stream",
     "text": [
      "+--------------+---------------+-------------+\n",
      "|ecdc_year_week|start_week_date|end_week_date|\n",
      "+--------------+---------------+-------------+\n",
      "|      2020-W32|     2020-08-02|   2020-08-08|\n",
      "|      2022-W39|     2022-09-18|   2022-09-24|\n",
      "|      2020-W47|     2020-11-15|   2020-11-21|\n",
      "|      2020-W10|     2020-03-01|   2020-03-07|\n",
      "|      2020-W13|     2020-03-22|   2020-03-28|\n",
      "|      2021-W53|     2021-12-26|   2021-12-31|\n",
      "|      2020-W12|     2020-03-15|   2020-03-21|\n",
      "|      2021-W42|     2021-10-10|   2021-10-16|\n",
      "|      2021-W45|     2021-10-31|   2021-11-06|\n",
      "|      2020-W44|     2020-10-25|   2020-10-31|\n",
      "|      2022-W38|     2022-09-11|   2022-09-17|\n",
      "|      2021-W22|     2021-05-23|   2021-05-29|\n",
      "|      2020-W08|     2020-02-16|   2020-02-22|\n",
      "|      2020-W34|     2020-08-16|   2020-08-22|\n",
      "|      2022-W17|     2022-04-17|   2022-04-23|\n",
      "|      2021-W51|     2021-12-12|   2021-12-18|\n",
      "|      2021-W43|     2021-10-17|   2021-10-23|\n",
      "|      2020-W26|     2020-06-21|   2020-06-27|\n",
      "|      2020-W36|     2020-08-30|   2020-09-05|\n",
      "|      2021-W03|     2021-01-10|   2021-01-16|\n",
      "+--------------+---------------+-------------+\n",
      "only showing top 20 rows\n",
      "\n"
     ]
    }
   ],
   "source": [
    "aggregated_dim_date.show()"
   ]
  },
  {
   "cell_type": "code",
   "execution_count": 40,
   "id": "cd6e5e7f-0ee4-477a-a40e-1f6747de962a",
   "metadata": {
    "scrolled": true
   },
   "outputs": [
    {
     "name": "stdout",
     "output_type": "stream",
     "text": [
      "+-------+--------------------+--------------------+--------------------+-------------+------------------+----------+------+---------------+\n",
      "|country|country_code_2_digit|country_code_3_digit|           indicator|reported_date|reported_year_week|population| value|         source|\n",
      "+-------+--------------------+--------------------+--------------------+-------------+------------------+----------+------+---------------+\n",
      "|Austria|                  AT|                 AUT|Daily hospital oc...|   2020-04-02|          2020-W14|   8858775|1057.0|   Surveillance|\n",
      "|Austria|                  AT|                 AUT|Daily hospital oc...|   2020-04-08|          2020-W15|   8858775|1096.0|   Surveillance|\n",
      "|Austria|                  AT|                 AUT|Daily hospital oc...|   2020-04-15|          2020-W16|   8858775|1001.0|   Surveillance|\n",
      "|Austria|                  AT|                 AUT|Daily hospital oc...|   2020-04-16|          2020-W16|   8858775| 967.0|   Surveillance|\n",
      "|Austria|                  AT|                 AUT|Daily hospital oc...|   2020-04-17|          2020-W16|   8858775| 909.0|   Surveillance|\n",
      "|Austria|                  AT|                 AUT|Daily hospital oc...|   2020-04-19|          2020-W16|   8858775| 817.0|   Surveillance|\n",
      "|Austria|                  AT|                 AUT|Daily hospital oc...|   2020-04-21|          2020-W17|   8858775| 756.0|   Surveillance|\n",
      "|Austria|                  AT|                 AUT|Daily hospital oc...|   2020-04-22|          2020-W17|   8858775| 700.0|   Surveillance|\n",
      "|Austria|                  AT|                 AUT|Daily hospital oc...|   2020-04-23|          2020-W17|   8858775| 677.0|   Surveillance|\n",
      "|Austria|                  AT|                 AUT|Daily hospital oc...|   2020-04-24|          2020-W17|   8858775| 651.0|   Surveillance|\n",
      "|Austria|                  AT|                 AUT|Daily hospital oc...|   2020-04-27|          2020-W18|   8858775| 579.0|   Surveillance|\n",
      "|Austria|                  AT|                 AUT|Daily hospital oc...|   2020-04-28|          2020-W18|   8858775| 561.0|   Surveillance|\n",
      "|Austria|                  AT|                 AUT|Daily hospital oc...|   2020-04-29|          2020-W18|   8858775| 517.0|   Surveillance|\n",
      "|Austria|                  AT|                 AUT|Daily hospital oc...|   2020-04-30|          2020-W18|   8858775| 500.0|Country_Website|\n",
      "|Austria|                  AT|                 AUT|Daily hospital oc...|   2020-05-02|          2020-W18|   8858775| 428.0|Country_Website|\n",
      "|Austria|                  AT|                 AUT|Daily hospital oc...|   2020-05-03|          2020-W18|   8858775| 422.0|Country_Website|\n",
      "|Austria|                  AT|                 AUT|Daily hospital oc...|   2020-05-04|          2020-W19|   8858775| 420.0|Country_Website|\n",
      "|Austria|                  AT|                 AUT|Daily hospital oc...|   2020-05-05|          2020-W19|   8858775| 418.0|Country_Website|\n",
      "|Austria|                  AT|                 AUT|Daily hospital oc...|   2020-05-06|          2020-W19|   8858775| 418.0|Country_Website|\n",
      "|Austria|                  AT|                 AUT|Daily hospital oc...|   2020-05-07|          2020-W19|   8858775| 360.0|Country_Website|\n",
      "+-------+--------------------+--------------------+--------------------+-------------+------------------+----------+------+---------------+\n",
      "only showing top 20 rows\n",
      "\n"
     ]
    }
   ],
   "source": [
    "df_daily_hospital_admissions.show()"
   ]
  },
  {
   "cell_type": "code",
   "execution_count": null,
   "id": "f1860f1b-a925-4c71-8038-1bc5778fd443",
   "metadata": {},
   "outputs": [],
   "source": []
  },
  {
   "cell_type": "code",
   "execution_count": 8,
   "id": "b02b319c-7684-4f7f-8d4a-65c936acb211",
   "metadata": {},
   "outputs": [],
   "source": [
    "condition = [df_daily_hospital_admissions.reported_year_week == aggregated_dim_date.ecdc_year_week]\n",
    "\n",
    "fields = [\n",
    "    'country'\n",
    "    ,'country_code_2_digit'\n",
    "    ,'country_code_3_digit'\n",
    "    ,'indicator'\n",
    "    ,'reported_date'\n",
    "    ,'population'\n",
    "    ,'value'\n",
    "    ,'source'\n",
    "    ,'ecdc_year_week'\n",
    "    ,'start_week_date'\n",
    "    ,'end_week_date'\n",
    "]\n",
    "\n",
    "df_daily_hospital_admissions = (\n",
    "    df_daily_hospital_admissions\n",
    "    .join(aggregated_dim_date, on=condition, how='left')\n",
    "    .select(fields)\n",
    ")"
   ]
  },
  {
   "cell_type": "code",
   "execution_count": 9,
   "id": "1fe3c8e2-cc45-4987-ad87-f254e7eea9bd",
   "metadata": {},
   "outputs": [
    {
     "name": "stdout",
     "output_type": "stream",
     "text": [
      "+-------+--------------------+--------------------+--------------------+-------------+----------+------+---------------+--------------+---------------+-------------+\n",
      "|country|country_code_2_digit|country_code_3_digit|           indicator|reported_date|population| value|         source|ecdc_year_week|start_week_date|end_week_date|\n",
      "+-------+--------------------+--------------------+--------------------+-------------+----------+------+---------------+--------------+---------------+-------------+\n",
      "|Austria|                  AT|                 AUT|Daily hospital oc...|   2020-04-02|   8858775|1057.0|   Surveillance|      2020-W14|     2020-03-29|   2020-04-04|\n",
      "|Austria|                  AT|                 AUT|Daily hospital oc...|   2020-04-08|   8858775|1096.0|   Surveillance|      2020-W15|     2020-04-05|   2020-04-11|\n",
      "|Austria|                  AT|                 AUT|Daily hospital oc...|   2020-04-15|   8858775|1001.0|   Surveillance|      2020-W16|     2020-04-12|   2020-04-18|\n",
      "|Austria|                  AT|                 AUT|Daily hospital oc...|   2020-04-16|   8858775| 967.0|   Surveillance|      2020-W16|     2020-04-12|   2020-04-18|\n",
      "|Austria|                  AT|                 AUT|Daily hospital oc...|   2020-04-17|   8858775| 909.0|   Surveillance|      2020-W16|     2020-04-12|   2020-04-18|\n",
      "|Austria|                  AT|                 AUT|Daily hospital oc...|   2020-04-19|   8858775| 817.0|   Surveillance|      2020-W16|     2020-04-12|   2020-04-18|\n",
      "|Austria|                  AT|                 AUT|Daily hospital oc...|   2020-04-21|   8858775| 756.0|   Surveillance|      2020-W17|     2020-04-19|   2020-04-25|\n",
      "|Austria|                  AT|                 AUT|Daily hospital oc...|   2020-04-22|   8858775| 700.0|   Surveillance|      2020-W17|     2020-04-19|   2020-04-25|\n",
      "|Austria|                  AT|                 AUT|Daily hospital oc...|   2020-04-23|   8858775| 677.0|   Surveillance|      2020-W17|     2020-04-19|   2020-04-25|\n",
      "|Austria|                  AT|                 AUT|Daily hospital oc...|   2020-04-24|   8858775| 651.0|   Surveillance|      2020-W17|     2020-04-19|   2020-04-25|\n",
      "|Austria|                  AT|                 AUT|Daily hospital oc...|   2020-04-27|   8858775| 579.0|   Surveillance|      2020-W18|     2020-04-26|   2020-05-02|\n",
      "|Austria|                  AT|                 AUT|Daily hospital oc...|   2020-04-28|   8858775| 561.0|   Surveillance|      2020-W18|     2020-04-26|   2020-05-02|\n",
      "|Austria|                  AT|                 AUT|Daily hospital oc...|   2020-04-29|   8858775| 517.0|   Surveillance|      2020-W18|     2020-04-26|   2020-05-02|\n",
      "|Austria|                  AT|                 AUT|Daily hospital oc...|   2020-04-30|   8858775| 500.0|Country_Website|      2020-W18|     2020-04-26|   2020-05-02|\n",
      "|Austria|                  AT|                 AUT|Daily hospital oc...|   2020-05-02|   8858775| 428.0|Country_Website|      2020-W18|     2020-04-26|   2020-05-02|\n",
      "|Austria|                  AT|                 AUT|Daily hospital oc...|   2020-05-03|   8858775| 422.0|Country_Website|      2020-W18|     2020-04-26|   2020-05-02|\n",
      "|Austria|                  AT|                 AUT|Daily hospital oc...|   2020-05-04|   8858775| 420.0|Country_Website|      2020-W19|     2020-05-03|   2020-05-09|\n",
      "|Austria|                  AT|                 AUT|Daily hospital oc...|   2020-05-05|   8858775| 418.0|Country_Website|      2020-W19|     2020-05-03|   2020-05-09|\n",
      "|Austria|                  AT|                 AUT|Daily hospital oc...|   2020-05-06|   8858775| 418.0|Country_Website|      2020-W19|     2020-05-03|   2020-05-09|\n",
      "|Austria|                  AT|                 AUT|Daily hospital oc...|   2020-05-07|   8858775| 360.0|Country_Website|      2020-W19|     2020-05-03|   2020-05-09|\n",
      "+-------+--------------------+--------------------+--------------------+-------------+----------+------+---------------+--------------+---------------+-------------+\n",
      "only showing top 20 rows\n",
      "\n"
     ]
    }
   ],
   "source": [
    "df_daily_hospital_admissions.show()"
   ]
  }
 ],
 "metadata": {
  "kernelspec": {
   "display_name": "Python 3 (ipykernel)",
   "language": "python",
   "name": "python3"
  },
  "language_info": {
   "codemirror_mode": {
    "name": "ipython",
    "version": 3
   },
   "file_extension": ".py",
   "mimetype": "text/x-python",
   "name": "python",
   "nbconvert_exporter": "python",
   "pygments_lexer": "ipython3",
   "version": "3.11.5"
  }
 },
 "nbformat": 4,
 "nbformat_minor": 5
}
